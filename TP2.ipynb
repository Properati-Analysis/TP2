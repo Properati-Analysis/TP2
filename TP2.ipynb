{
 "cells": [
  {
   "cell_type": "code",
   "execution_count": 2,
   "metadata": {},
   "outputs": [],
   "source": [
    "#Import core libs\n",
    "import re\n",
    "import random\n",
    "import math\n",
    "import matplotlib.pyplot as plt\n",
    "import datetime\n",
    "import os\n",
    "from operator import add\n",
    "\n",
    "#Import non-core libs\n",
    "import pandas as pd\n",
    "import numpy as np\n",
    "import seaborn as sns\n",
    "import matplotlib.pyplot as plt\n",
    "import scipy.special\n",
    "import scipy.stats as stats\n",
    "\n",
    "#Import Visualization libs\n",
    "from bokeh.plotting import figure, output_notebook, show\n",
    "from bokeh.palettes import Category20\n",
    "from bokeh.models import ColumnDataSource\n",
    "from bokeh.layouts import gridplot\n",
    "\n",
    "#Import Prediction libs\n",
    "from sklearn.model_selection import train_test_split\n",
    "from sklearn.linear_model import LinearRegression\n",
    "from sklearn import metrics\n",
    "from sklearn import linear_model\n",
    "from sklearn.metrics import r2_score"
   ]
  },
  {
   "cell_type": "markdown",
   "metadata": {},
   "source": [
    "## Definición de fuente"
   ]
  },
  {
   "cell_type": "code",
   "execution_count": 3,
   "metadata": {},
   "outputs": [],
   "source": [
    "#Definimos la fuente del archivo (indicar directorio local)\n",
    "source = \"../../DataSets Grandes/properati2.csv\"\n",
    "data = pd.read_csv(source)\n",
    "#Github repository = \"https://github.com/Properati-Analysis/TP2\""
   ]
  },
  {
   "cell_type": "markdown",
   "metadata": {},
   "source": [
    "## Análisis exploratorio de datos"
   ]
  },
  {
   "cell_type": "code",
   "execution_count": 4,
   "metadata": {},
   "outputs": [
    {
     "data": {
      "text/plain": [
       "Index(['Unnamed: 0', 'operation', 'property_type', 'place_name',\n",
       "       'place_with_parent_names', 'country_name', 'state_name', 'geonames_id',\n",
       "       'lat-lon', 'lat', 'lon', 'price', 'currency',\n",
       "       'price_aprox_local_currency', 'price_aprox_usd', 'surface_total_in_m2',\n",
       "       'surface_covered_in_m2', 'price_usd_per_m2', 'price_per_m2', 'floor',\n",
       "       'rooms', 'expenses', 'properati_url', 'description', 'title',\n",
       "       'image_thumbnail'],\n",
       "      dtype='object')"
      ]
     },
     "execution_count": 4,
     "metadata": {},
     "output_type": "execute_result"
    }
   ],
   "source": [
    "#Analizamos las columnas\n",
    "data.columns"
   ]
  },
  {
   "cell_type": "code",
   "execution_count": 5,
   "metadata": {},
   "outputs": [
    {
     "data": {
      "text/plain": [
       "['operation',\n",
       " 'property_type',\n",
       " 'place_name',\n",
       " 'place_with_parent_names',\n",
       " 'country_name',\n",
       " 'state_name',\n",
       " 'lat-lon',\n",
       " 'currency',\n",
       " 'properati_url',\n",
       " 'description',\n",
       " 'title',\n",
       " 'image_thumbnail']"
      ]
     },
     "execution_count": 5,
     "metadata": {},
     "output_type": "execute_result"
    }
   ],
   "source": [
    "categorical_columns = [col for col in data.columns if data[col].dtypes == 'object']\n",
    "categorical_columns"
   ]
  },
  {
   "cell_type": "code",
   "execution_count": 6,
   "metadata": {},
   "outputs": [
    {
     "data": {
      "text/plain": [
       "['Unnamed: 0',\n",
       " 'geonames_id',\n",
       " 'lat',\n",
       " 'lon',\n",
       " 'price',\n",
       " 'price_aprox_local_currency',\n",
       " 'price_aprox_usd',\n",
       " 'surface_total_in_m2',\n",
       " 'surface_covered_in_m2',\n",
       " 'price_usd_per_m2',\n",
       " 'price_per_m2',\n",
       " 'floor',\n",
       " 'rooms',\n",
       " 'expenses']"
      ]
     },
     "execution_count": 6,
     "metadata": {},
     "output_type": "execute_result"
    }
   ],
   "source": [
    "numerical_columns = [col for col in data.columns if data[col].dtypes != 'object']\n",
    "numerical_columns"
   ]
  },
  {
   "cell_type": "code",
   "execution_count": 7,
   "metadata": {},
   "outputs": [
    {
     "data": {
      "text/plain": [
       "(121220, 26)"
      ]
     },
     "execution_count": 7,
     "metadata": {},
     "output_type": "execute_result"
    }
   ],
   "source": [
    "#Analizamos la forma\n",
    "data.shape"
   ]
  },
  {
   "cell_type": "code",
   "execution_count": 8,
   "metadata": {},
   "outputs": [
    {
     "data": {
      "text/html": [
       "<div>\n",
       "<style scoped>\n",
       "    .dataframe tbody tr th:only-of-type {\n",
       "        vertical-align: middle;\n",
       "    }\n",
       "\n",
       "    .dataframe tbody tr th {\n",
       "        vertical-align: top;\n",
       "    }\n",
       "\n",
       "    .dataframe thead th {\n",
       "        text-align: right;\n",
       "    }\n",
       "</style>\n",
       "<table border=\"1\" class=\"dataframe\">\n",
       "  <thead>\n",
       "    <tr style=\"text-align: right;\">\n",
       "      <th></th>\n",
       "      <th>Unnamed: 0</th>\n",
       "      <th>operation</th>\n",
       "      <th>property_type</th>\n",
       "      <th>place_name</th>\n",
       "      <th>place_with_parent_names</th>\n",
       "      <th>country_name</th>\n",
       "      <th>state_name</th>\n",
       "      <th>geonames_id</th>\n",
       "      <th>lat-lon</th>\n",
       "      <th>lat</th>\n",
       "      <th>...</th>\n",
       "      <th>surface_covered_in_m2</th>\n",
       "      <th>price_usd_per_m2</th>\n",
       "      <th>price_per_m2</th>\n",
       "      <th>floor</th>\n",
       "      <th>rooms</th>\n",
       "      <th>expenses</th>\n",
       "      <th>properati_url</th>\n",
       "      <th>description</th>\n",
       "      <th>title</th>\n",
       "      <th>image_thumbnail</th>\n",
       "    </tr>\n",
       "  </thead>\n",
       "  <tbody>\n",
       "    <tr>\n",
       "      <th>0</th>\n",
       "      <td>0</td>\n",
       "      <td>sell</td>\n",
       "      <td>PH</td>\n",
       "      <td>Mataderos</td>\n",
       "      <td>|Argentina|Capital Federal|Mataderos|</td>\n",
       "      <td>Argentina</td>\n",
       "      <td>Capital Federal</td>\n",
       "      <td>3430787.0</td>\n",
       "      <td>-34.6618237,-58.5088387</td>\n",
       "      <td>-34.661824</td>\n",
       "      <td>...</td>\n",
       "      <td>40.0</td>\n",
       "      <td>1127.272727</td>\n",
       "      <td>1550.0</td>\n",
       "      <td>NaN</td>\n",
       "      <td>NaN</td>\n",
       "      <td>NaN</td>\n",
       "      <td>http://www.properati.com.ar/15bo8_venta_ph_mat...</td>\n",
       "      <td>2 AMBIENTES TIPO CASA PLANTA BAJA POR PASILLO,...</td>\n",
       "      <td>2 AMB TIPO CASA SIN EXPENSAS EN PB</td>\n",
       "      <td>https://thumbs4.properati.com/8/BluUYiHJLhgIIK...</td>\n",
       "    </tr>\n",
       "    <tr>\n",
       "      <th>1</th>\n",
       "      <td>1</td>\n",
       "      <td>sell</td>\n",
       "      <td>apartment</td>\n",
       "      <td>La Plata</td>\n",
       "      <td>|Argentina|Bs.As. G.B.A. Zona Sur|La Plata|</td>\n",
       "      <td>Argentina</td>\n",
       "      <td>Bs.As. G.B.A. Zona Sur</td>\n",
       "      <td>3432039.0</td>\n",
       "      <td>-34.9038831,-57.9643295</td>\n",
       "      <td>-34.903883</td>\n",
       "      <td>...</td>\n",
       "      <td>NaN</td>\n",
       "      <td>NaN</td>\n",
       "      <td>NaN</td>\n",
       "      <td>NaN</td>\n",
       "      <td>NaN</td>\n",
       "      <td>NaN</td>\n",
       "      <td>http://www.properati.com.ar/15bob_venta_depart...</td>\n",
       "      <td>Venta de departamento en décimo piso al frente...</td>\n",
       "      <td>VENTA Depto 2 dorm. a estrenar 7 e/ 36 y 37   ...</td>\n",
       "      <td>https://thumbs4.properati.com/7/ikpVBu2ztHA7jv...</td>\n",
       "    </tr>\n",
       "  </tbody>\n",
       "</table>\n",
       "<p>2 rows × 26 columns</p>\n",
       "</div>"
      ],
      "text/plain": [
       "   Unnamed: 0 operation property_type place_name  \\\n",
       "0           0      sell            PH  Mataderos   \n",
       "1           1      sell     apartment   La Plata   \n",
       "\n",
       "                       place_with_parent_names country_name  \\\n",
       "0        |Argentina|Capital Federal|Mataderos|    Argentina   \n",
       "1  |Argentina|Bs.As. G.B.A. Zona Sur|La Plata|    Argentina   \n",
       "\n",
       "               state_name  geonames_id                  lat-lon        lat  \\\n",
       "0         Capital Federal    3430787.0  -34.6618237,-58.5088387 -34.661824   \n",
       "1  Bs.As. G.B.A. Zona Sur    3432039.0  -34.9038831,-57.9643295 -34.903883   \n",
       "\n",
       "   ...  surface_covered_in_m2  price_usd_per_m2 price_per_m2  floor  rooms  \\\n",
       "0  ...                   40.0       1127.272727       1550.0    NaN    NaN   \n",
       "1  ...                    NaN               NaN          NaN    NaN    NaN   \n",
       "\n",
       "   expenses                                      properati_url  \\\n",
       "0       NaN  http://www.properati.com.ar/15bo8_venta_ph_mat...   \n",
       "1       NaN  http://www.properati.com.ar/15bob_venta_depart...   \n",
       "\n",
       "                                         description  \\\n",
       "0  2 AMBIENTES TIPO CASA PLANTA BAJA POR PASILLO,...   \n",
       "1  Venta de departamento en décimo piso al frente...   \n",
       "\n",
       "                                               title  \\\n",
       "0                 2 AMB TIPO CASA SIN EXPENSAS EN PB   \n",
       "1  VENTA Depto 2 dorm. a estrenar 7 e/ 36 y 37   ...   \n",
       "\n",
       "                                     image_thumbnail  \n",
       "0  https://thumbs4.properati.com/8/BluUYiHJLhgIIK...  \n",
       "1  https://thumbs4.properati.com/7/ikpVBu2ztHA7jv...  \n",
       "\n",
       "[2 rows x 26 columns]"
      ]
     },
     "execution_count": 8,
     "metadata": {},
     "output_type": "execute_result"
    }
   ],
   "source": [
    "#Vemos los primeros datos\n",
    "data.head(2)"
   ]
  },
  {
   "cell_type": "code",
   "execution_count": 78,
   "metadata": {},
   "outputs": [
    {
     "name": "stdout",
     "output_type": "stream",
     "text": [
      "Nulos en el dataset:\n"
     ]
    },
    {
     "data": {
      "text/html": [
       "<div>\n",
       "<style scoped>\n",
       "    .dataframe tbody tr th:only-of-type {\n",
       "        vertical-align: middle;\n",
       "    }\n",
       "\n",
       "    .dataframe tbody tr th {\n",
       "        vertical-align: top;\n",
       "    }\n",
       "\n",
       "    .dataframe thead th {\n",
       "        text-align: right;\n",
       "    }\n",
       "</style>\n",
       "<table border=\"1\" class=\"dataframe\">\n",
       "  <thead>\n",
       "    <tr style=\"text-align: right;\">\n",
       "      <th></th>\n",
       "      <th>nulos</th>\n",
       "      <th>porcentajes</th>\n",
       "    </tr>\n",
       "  </thead>\n",
       "  <tbody>\n",
       "    <tr>\n",
       "      <th>place_name</th>\n",
       "      <td>23</td>\n",
       "      <td>0.0</td>\n",
       "    </tr>\n",
       "    <tr>\n",
       "      <th>geonames_id</th>\n",
       "      <td>18717</td>\n",
       "      <td>15.0</td>\n",
       "    </tr>\n",
       "    <tr>\n",
       "      <th>lat-lon</th>\n",
       "      <td>51550</td>\n",
       "      <td>43.0</td>\n",
       "    </tr>\n",
       "    <tr>\n",
       "      <th>lat</th>\n",
       "      <td>51550</td>\n",
       "      <td>43.0</td>\n",
       "    </tr>\n",
       "    <tr>\n",
       "      <th>lon</th>\n",
       "      <td>51550</td>\n",
       "      <td>43.0</td>\n",
       "    </tr>\n",
       "    <tr>\n",
       "      <th>price</th>\n",
       "      <td>20410</td>\n",
       "      <td>17.0</td>\n",
       "    </tr>\n",
       "    <tr>\n",
       "      <th>currency</th>\n",
       "      <td>20411</td>\n",
       "      <td>17.0</td>\n",
       "    </tr>\n",
       "    <tr>\n",
       "      <th>price_aprox_local_currency</th>\n",
       "      <td>20410</td>\n",
       "      <td>17.0</td>\n",
       "    </tr>\n",
       "    <tr>\n",
       "      <th>price_aprox_usd</th>\n",
       "      <td>20410</td>\n",
       "      <td>17.0</td>\n",
       "    </tr>\n",
       "    <tr>\n",
       "      <th>surface_total_in_m2</th>\n",
       "      <td>39328</td>\n",
       "      <td>32.0</td>\n",
       "    </tr>\n",
       "    <tr>\n",
       "      <th>surface_covered_in_m2</th>\n",
       "      <td>19907</td>\n",
       "      <td>16.0</td>\n",
       "    </tr>\n",
       "    <tr>\n",
       "      <th>price_usd_per_m2</th>\n",
       "      <td>52603</td>\n",
       "      <td>43.0</td>\n",
       "    </tr>\n",
       "    <tr>\n",
       "      <th>price_per_m2</th>\n",
       "      <td>33562</td>\n",
       "      <td>28.0</td>\n",
       "    </tr>\n",
       "    <tr>\n",
       "      <th>floor</th>\n",
       "      <td>113321</td>\n",
       "      <td>93.0</td>\n",
       "    </tr>\n",
       "    <tr>\n",
       "      <th>rooms</th>\n",
       "      <td>73830</td>\n",
       "      <td>61.0</td>\n",
       "    </tr>\n",
       "    <tr>\n",
       "      <th>expenses</th>\n",
       "      <td>106958</td>\n",
       "      <td>88.0</td>\n",
       "    </tr>\n",
       "    <tr>\n",
       "      <th>description</th>\n",
       "      <td>2</td>\n",
       "      <td>0.0</td>\n",
       "    </tr>\n",
       "    <tr>\n",
       "      <th>image_thumbnail</th>\n",
       "      <td>3112</td>\n",
       "      <td>3.0</td>\n",
       "    </tr>\n",
       "  </tbody>\n",
       "</table>\n",
       "</div>"
      ],
      "text/plain": [
       "                             nulos  porcentajes\n",
       "place_name                      23          0.0\n",
       "geonames_id                  18717         15.0\n",
       "lat-lon                      51550         43.0\n",
       "lat                          51550         43.0\n",
       "lon                          51550         43.0\n",
       "price                        20410         17.0\n",
       "currency                     20411         17.0\n",
       "price_aprox_local_currency   20410         17.0\n",
       "price_aprox_usd              20410         17.0\n",
       "surface_total_in_m2          39328         32.0\n",
       "surface_covered_in_m2        19907         16.0\n",
       "price_usd_per_m2             52603         43.0\n",
       "price_per_m2                 33562         28.0\n",
       "floor                       113321         93.0\n",
       "rooms                        73830         61.0\n",
       "expenses                    106958         88.0\n",
       "description                      2          0.0\n",
       "image_thumbnail               3112          3.0"
      ]
     },
     "metadata": {},
     "output_type": "display_data"
    }
   ],
   "source": [
    "#Vemos los nulos del dataset\n",
    "print (\"Nulos en el dataset:\")\n",
    "#data.isna().sum()[data.isna().sum()>1]\n",
    "nulos = pd.DataFrame(data = {\"nulos\":data.isna().sum().values,\"porcentajes\":pd.Series(round(data.isna().sum()/len(data),2)*100).values}, index = data.isna().sum().index)\n",
    "display(nulos.loc[(nulos!=0).any(axis=1)])"
   ]
  },
  {
   "cell_type": "markdown",
   "metadata": {},
   "source": [
    "## Limpieza de datos"
   ]
  },
  {
   "cell_type": "code",
   "execution_count": 79,
   "metadata": {},
   "outputs": [],
   "source": [
    "#Quitamos las columnas quue no nos interesan del dataframe original\n",
    "df = data.drop(columns = [\"operation\",\"country_name\",\"geonames_id\",\"image_thumbnail\",\"properati_url\",\"lat-lon\",\"price_aprox_local_currency\",\"price_aprox_usd\"])"
   ]
  },
  {
   "cell_type": "code",
   "execution_count": 80,
   "metadata": {},
   "outputs": [
    {
     "data": {
      "text/plain": [
       "(121220, 18)"
      ]
     },
     "execution_count": 80,
     "metadata": {},
     "output_type": "execute_result"
    }
   ],
   "source": [
    "df.shape"
   ]
  },
  {
   "cell_type": "code",
   "execution_count": 9,
   "metadata": {},
   "outputs": [],
   "source": [
    "#df.corr()"
   ]
  },
  {
   "cell_type": "code",
   "execution_count": 81,
   "metadata": {},
   "outputs": [],
   "source": [
    "#Guardo una copia del dataset con nulos\n",
    "df_with_nan = df"
   ]
  },
  {
   "cell_type": "code",
   "execution_count": 82,
   "metadata": {},
   "outputs": [],
   "source": [
    "#Hacemos limpieza de los registros que tengan nulo en alguno de los features expresados en el subset, ya que nos interesa tener todos completos, e inferirlos generaría un sesgo en el modelo\n",
    "df = df.dropna(subset=['price','property_type', \"surface_covered_in_m2\",\"surface_total_in_m2\",\"price_usd_per_m2\"], how='any')\n",
    "df = df.dropna(subset=[\"place_name\"], how='any')"
   ]
  },
  {
   "cell_type": "code",
   "execution_count": 83,
   "metadata": {},
   "outputs": [
    {
     "data": {
      "text/plain": [
       "(63334, 18)"
      ]
     },
     "execution_count": 83,
     "metadata": {},
     "output_type": "execute_result"
    }
   ],
   "source": [
    "df.shape"
   ]
  },
  {
   "cell_type": "code",
   "execution_count": 84,
   "metadata": {},
   "outputs": [],
   "source": [
    "#Nos quedamos únicamente con los que tienen moneda dólar\n",
    "df = df[df.currency == \"USD\"]"
   ]
  },
  {
   "cell_type": "code",
   "execution_count": 85,
   "metadata": {},
   "outputs": [
    {
     "data": {
      "text/plain": [
       "Index(['Chubut', 'Entre Ríos', 'Misiones', 'Salta', 'Tucumán', 'Chaco',\n",
       "       'Tierra Del Fuego', 'Santa Cruz', 'Catamarca', 'La Pampa',\n",
       "       'Santiago Del Estero', 'Jujuy', 'San Juan'],\n",
       "      dtype='object')"
      ]
     },
     "execution_count": 85,
     "metadata": {},
     "output_type": "execute_result"
    }
   ],
   "source": [
    "#Removemos los state_names con 50 o menos registros para darle más consistencia al df\n",
    "value_counts_st = df['state_name'].value_counts()\n",
    "to_remove_st = value_counts_st[value_counts_st <= 50].index\n",
    "to_remove_st"
   ]
  },
  {
   "cell_type": "code",
   "execution_count": 86,
   "metadata": {},
   "outputs": [
    {
     "data": {
      "text/plain": [
       "Index(['Pehuajó', 'La Punta', 'Punta Mogotes', 'Playa Varese',\n",
       "       'Country Saint Thomas', 'Valle Claro', 'Presidencia Roque Sáenz Peña',\n",
       "       'Rafael Calzada', 'Ricardo Rojas', 'Altos del Golf',\n",
       "       ...\n",
       "       'Barrio Cerrado El Casco de Alvarez', 'Bosque Peralta Ramos',\n",
       "       'Aeropuerto Internacional Ezeiza', 'Yerba Buena', 'Colonia Benitez',\n",
       "       'Barrio Privado El Rodal', 'San Francisco del Monte', 'Trinidad',\n",
       "       'Barrio Camet', 'Garuhapé'],\n",
       "      dtype='object', length=342)"
      ]
     },
     "execution_count": 86,
     "metadata": {},
     "output_type": "execute_result"
    }
   ],
   "source": [
    "#Removemos los place_names con 5 o menos registros para darle más consistencia al df\n",
    "value_counts_pl = df['place_name'].value_counts()\n",
    "to_remove_pl = value_counts_pl[value_counts_pl <= 5].index\n",
    "to_remove_pl"
   ]
  },
  {
   "cell_type": "code",
   "execution_count": 87,
   "metadata": {},
   "outputs": [],
   "source": [
    "#Ejecutamos la remoción\n",
    "df = df[~df.state_name.isin(to_remove_st)]\n",
    "df = df[~df.place_name.isin(to_remove_pl)]"
   ]
  },
  {
   "cell_type": "code",
   "execution_count": 88,
   "metadata": {},
   "outputs": [
    {
     "data": {
      "text/plain": [
       "(54998, 18)"
      ]
     },
     "execution_count": 88,
     "metadata": {},
     "output_type": "execute_result"
    }
   ],
   "source": [
    "df.shape"
   ]
  },
  {
   "cell_type": "code",
   "execution_count": 90,
   "metadata": {},
   "outputs": [
    {
     "data": {
      "text/plain": [
       "Capital Federal                 21319\n",
       "Bs.As. G.B.A. Zona Norte        15616\n",
       "Bs.As. G.B.A. Zona Sur           5325\n",
       "Buenos Aires Costa Atlántica     4918\n",
       "Bs.As. G.B.A. Zona Oeste         4082\n",
       "Córdoba                          1274\n",
       "Santa Fe                         1007\n",
       "Buenos Aires Interior             698\n",
       "Corrientes                        290\n",
       "Mendoza                           224\n",
       "Neuquén                            93\n",
       "Río Negro                          77\n",
       "San Luis                           75\n",
       "Name: state_name, dtype: int64"
      ]
     },
     "execution_count": 90,
     "metadata": {},
     "output_type": "execute_result"
    }
   ],
   "source": [
    "#Vemos la distribución de las propiedades que quedaron por State Name\n",
    "df['state_name'].value_counts()"
   ]
  },
  {
   "cell_type": "code",
   "execution_count": 91,
   "metadata": {},
   "outputs": [],
   "source": [
    "#Generamos máscaras de filtros para quitar outliers de cada tipo de propiedad\n",
    "apart = df.property_type == \"apartment\"\n",
    "ph = df.property_type == \"PH\"\n",
    "house = df.property_type == \"house\"\n",
    "store = df.property_type == \"store\""
   ]
  },
  {
   "cell_type": "code",
   "execution_count": 92,
   "metadata": {},
   "outputs": [],
   "source": [
    "#Usamos el IQR para definir los criterios de limpieza de los OL"
   ]
  },
  {
   "cell_type": "code",
   "execution_count": 93,
   "metadata": {},
   "outputs": [],
   "source": [
    "ap_price_ol = df[apart][\"price_usd_per_m2\"].quantile(0.75) + (1.5 * (df[apart][\"price_usd_per_m2\"].quantile(0.75) - df[apart][\"price_usd_per_m2\"].quantile(0.25)))\n",
    "ap_sup_ol = df[apart][\"surface_total_in_m2\"].quantile(0.75) + (1.5 * (df[apart][\"surface_total_in_m2\"].quantile(0.75) - df[apart][\"surface_total_in_m2\"].quantile(0.25)))"
   ]
  },
  {
   "cell_type": "code",
   "execution_count": 94,
   "metadata": {},
   "outputs": [],
   "source": [
    "ph_price_ol = df[ph][\"price_usd_per_m2\"].quantile(0.85) + (1.5 * (df[ph][\"price_usd_per_m2\"].quantile(0.75) - df[ph][\"price_usd_per_m2\"].quantile(0.25)))\n",
    "ph_price_ol_min = df[ph][\"price_usd_per_m2\"].quantile(0.15) - (1.5 * (df[ph][\"price_usd_per_m2\"].quantile(0.75) - df[ph][\"price_usd_per_m2\"].quantile(0.25)))\n",
    "ph_sup_ol = df[ph][\"surface_total_in_m2\"].quantile(0.85) + (1.5 * (df[ph][\"surface_total_in_m2\"].quantile(0.75) - df[ph][\"surface_total_in_m2\"].quantile(0.25)))\n",
    "ph_sup_ol_min = df[ph][\"surface_total_in_m2\"].quantile(0.15) - (1.5 * (df[ph][\"surface_total_in_m2\"].quantile(0.75) - df[ph][\"surface_total_in_m2\"].quantile(0.25)))"
   ]
  },
  {
   "cell_type": "code",
   "execution_count": 95,
   "metadata": {},
   "outputs": [],
   "source": [
    "ho_price_ol = df[house][\"price_usd_per_m2\"].quantile(0.75) + (1.5 * (df[house][\"price_usd_per_m2\"].quantile(0.75) - df[house][\"price_usd_per_m2\"].quantile(0.25)))\n",
    "ho_sup_ol = df[house][\"surface_total_in_m2\"].quantile(0.75) + (1.5 * (df[house][\"surface_total_in_m2\"].quantile(0.75) - df[house][\"surface_covered_in_m2\"].quantile(0.25)))"
   ]
  },
  {
   "cell_type": "code",
   "execution_count": 96,
   "metadata": {},
   "outputs": [],
   "source": [
    "st_price_ol = df[store][\"price_usd_per_m2\"].quantile(0.85) + (1.5 * (df[store][\"price_usd_per_m2\"].quantile(0.75) - df[store][\"price_usd_per_m2\"].quantile(0.25)))\n",
    "st_sup_ol = df[store][\"surface_total_in_m2\"].quantile(0.85) + (1.5 * (df[store][\"surface_total_in_m2\"].quantile(0.75) - df[store][\"surface_total_in_m2\"].quantile(0.25)))"
   ]
  },
  {
   "cell_type": "code",
   "execution_count": 24,
   "metadata": {},
   "outputs": [],
   "source": [
    "#Guardo copia para análisis exploratorio de los valores elevados\n",
    "\n",
    "#df_high = df[df[\"surface_covered_in_m2\"] > surface_covered_in_m2_ol]\n",
    "#df_high = df[df[\"price_usd_per_m2\"] > ph_price_ol]"
   ]
  },
  {
   "cell_type": "code",
   "execution_count": 25,
   "metadata": {},
   "outputs": [],
   "source": [
    "#Limpieza genérica, sin consideración de tipo de propiedad\n",
    "\n",
    "#surface_total_in_m2_ol = df[\"surface_total_in_m2\"].quantile(0.75) + (1.5 * (df[\"surface_total_in_m2\"].quantile(0.75) - df[\"surface_total_in_m2\"].quantile(0.25)))"
   ]
  },
  {
   "cell_type": "code",
   "execution_count": 26,
   "metadata": {},
   "outputs": [],
   "source": [
    "#Limpieza genérica, sin consideración de tipo de propiedad\n",
    "\n",
    "#df = df[df[\"surface_covered_in_m2\"] < surface_covered_in_m2_ol]"
   ]
  },
  {
   "cell_type": "code",
   "execution_count": null,
   "metadata": {},
   "outputs": [],
   "source": [
    "#Ejecutamos la limpieza"
   ]
  },
  {
   "cell_type": "code",
   "execution_count": 97,
   "metadata": {},
   "outputs": [],
   "source": [
    "df_ap = df[apart]\n",
    "df_ap = df_ap[df_ap.price_usd_per_m2 < ap_price_ol]\n",
    "df_ap = df_ap[df_ap.surface_total_in_m2 < ap_sup_ol]\n",
    "#df_ap.describe()"
   ]
  },
  {
   "cell_type": "code",
   "execution_count": 98,
   "metadata": {},
   "outputs": [],
   "source": [
    "df_ph = df[ph]\n",
    "df_ph = df_ph[df_ph.price_usd_per_m2 < ph_price_ol]\n",
    "df_ph = df_ph[df_ph.price_usd_per_m2 > ph_price_ol_min]\n",
    "df_ph = df_ph[df_ph.surface_total_in_m2 < ph_sup_ol]\n",
    "df_ph = df_ph[df_ph.surface_total_in_m2 > ph_sup_ol_min]\n",
    "#df_ph.describe()"
   ]
  },
  {
   "cell_type": "code",
   "execution_count": 99,
   "metadata": {},
   "outputs": [],
   "source": [
    "df_ho = df[house]\n",
    "df_ho = df_ho[df_ho.price_usd_per_m2 < ho_price_ol]\n",
    "df_ho = df_ho[df_ho.surface_total_in_m2 < ho_sup_ol]\n",
    "#df_ho.describe()"
   ]
  },
  {
   "cell_type": "code",
   "execution_count": 100,
   "metadata": {},
   "outputs": [],
   "source": [
    "df_st = df[store]\n",
    "df_st = df_st[df_st.price_usd_per_m2 < st_price_ol]\n",
    "df_st = df_st[df_st.surface_total_in_m2 < st_sup_ol]\n",
    "#df_st.describe()"
   ]
  },
  {
   "cell_type": "code",
   "execution_count": 101,
   "metadata": {},
   "outputs": [
    {
     "data": {
      "text/plain": [
       "(54998, 18)"
      ]
     },
     "execution_count": 101,
     "metadata": {},
     "output_type": "execute_result"
    }
   ],
   "source": [
    "df.shape"
   ]
  },
  {
   "cell_type": "code",
   "execution_count": 103,
   "metadata": {},
   "outputs": [],
   "source": [
    "#df_high.shape"
   ]
  },
  {
   "cell_type": "code",
   "execution_count": 104,
   "metadata": {},
   "outputs": [],
   "source": [
    "#Concatenamos nuevamente los tipos de propiedad en el df original\n",
    "frames = [df_ap,df_ph,df_ho,df_st]\n",
    "df = pd.concat(frames)"
   ]
  },
  {
   "cell_type": "code",
   "execution_count": 105,
   "metadata": {},
   "outputs": [],
   "source": [
    "#Nos quedamos solo con la superficie que guarda relación con la lógica y sentido común\n",
    "df = df[df.surface_covered_in_m2 < df.surface_total_in_m2]"
   ]
  },
  {
   "cell_type": "code",
   "execution_count": 107,
   "metadata": {},
   "outputs": [
    {
     "data": {
      "text/plain": [
       "lat              7179\n",
       "lon              7179\n",
       "price_per_m2        2\n",
       "floor           17626\n",
       "rooms           11438\n",
       "expenses        14529\n",
       "dtype: int64"
      ]
     },
     "execution_count": 107,
     "metadata": {},
     "output_type": "execute_result"
    }
   ],
   "source": [
    "#Revisamos los nulos de los departamentos\n",
    "df[df.property_type == \"apartment\"].isna().sum()[df[df.property_type == \"apartment\"].isna().sum()>0]"
   ]
  },
  {
   "cell_type": "code",
   "execution_count": 108,
   "metadata": {},
   "outputs": [
    {
     "data": {
      "text/plain": [
       "(31841, 18)"
      ]
     },
     "execution_count": 108,
     "metadata": {},
     "output_type": "execute_result"
    }
   ],
   "source": [
    "#Observamos que luego de la potente limpieza conservamos más de 30000 datos, suficientes para considerar la proyección\n",
    "df.shape"
   ]
  },
  {
   "cell_type": "code",
   "execution_count": 109,
   "metadata": {},
   "outputs": [
    {
     "data": {
      "text/plain": [
       "<AxesSubplot:>"
      ]
     },
     "execution_count": 109,
     "metadata": {},
     "output_type": "execute_result"
    },
    {
     "data": {
      "image/png": "[encoded data removed]",
      "text/plain": [
       "<Figure size 432x288 with 2 Axes>"
      ]
     },
     "metadata": {
      "needs_background": "light"
     },
     "output_type": "display_data"
    }
   ],
   "source": [
    "#Nulos sobre df inicial\n",
    "cols = df_with_nan.columns[:30] # first 30 columns\n",
    "colours = ['#000099', '#ffff00'] # specify the colours - yellow is missing. blue is not missing.\n",
    "sns.heatmap(df_with_nan[cols].isnull(), cmap=sns.color_palette(colours))"
   ]
  },
  {
   "cell_type": "code",
   "execution_count": 110,
   "metadata": {},
   "outputs": [
    {
     "data": {
      "text/plain": [
       "<AxesSubplot:>"
      ]
     },
     "execution_count": 110,
     "metadata": {},
     "output_type": "execute_result"
    },
    {
     "data": {
      "image/png": "[encoded data removed]",
      "text/plain": [
       "<Figure size 432x288 with 2 Axes>"
      ]
     },
     "metadata": {
      "needs_background": "light"
     },
     "output_type": "display_data"
    }
   ],
   "source": [
    "#Nulos sobre df limpio (considerando que las casas no tienen números de piso ni expensas)\n",
    "cols = df.columns[:30] # first 30 columns\n",
    "colours = ['#000099', '#ffff00'] # specify the colours - yellow is missing. blue is not missing.\n",
    "sns.heatmap(df[cols].isnull(), cmap=sns.color_palette(colours))"
   ]
  },
  {
   "cell_type": "code",
   "execution_count": 111,
   "metadata": {},
   "outputs": [
    {
     "data": {
      "text/plain": [
       "apartment    71065\n",
       "house        40268\n",
       "PH            5751\n",
       "store         4136\n",
       "Name: property_type, dtype: int64"
      ]
     },
     "execution_count": 111,
     "metadata": {},
     "output_type": "execute_result"
    }
   ],
   "source": [
    "#Distribución de valores por tipo de propiedad en df con nulos\n",
    "df_with_nan.property_type.value_counts()"
   ]
  },
  {
   "cell_type": "code",
   "execution_count": 112,
   "metadata": {},
   "outputs": [
    {
     "data": {
      "text/plain": [
       "apartment    19459\n",
       "house        10167\n",
       "PH            1914\n",
       "store          301\n",
       "Name: property_type, dtype: int64"
      ]
     },
     "execution_count": 112,
     "metadata": {},
     "output_type": "execute_result"
    }
   ],
   "source": [
    "#Distribución de valores por tipo de propiedad en df sin nulos\n",
    "df.property_type.value_counts()"
   ]
  },
  {
   "cell_type": "code",
   "execution_count": 41,
   "metadata": {},
   "outputs": [],
   "source": [
    "#df_high.property_type.value_counts()"
   ]
  },
  {
   "cell_type": "code",
   "execution_count": 113,
   "metadata": {},
   "outputs": [
    {
     "data": {
      "text/plain": [
       "<AxesSubplot:xlabel='surface_covered_in_m2', ylabel='price'>"
      ]
     },
     "execution_count": 113,
     "metadata": {},
     "output_type": "execute_result"
    },
    {
     "data": {
      "image/png": "[encoded data removed]",
      "text/plain": [
       "<Figure size 432x288 with 1 Axes>"
      ]
     },
     "metadata": {
      "needs_background": "light"
     },
     "output_type": "display_data"
    }
   ],
   "source": [
    "#Vemos un simple scatterplot con la relación entre la superficie cubierta y el precio total de las propiedades\n",
    "sns.scatterplot(x = \"surface_covered_in_m2\", y = df.price/1000000, data = df)"
   ]
  },
  {
   "cell_type": "code",
   "execution_count": 43,
   "metadata": {},
   "outputs": [
    {
     "data": {
      "text/plain": [
       "<AxesSubplot:xlabel='surface_covered_in_m2', ylabel='price'>"
      ]
     },
     "execution_count": 43,
     "metadata": {},
     "output_type": "execute_result"
    },
    {
     "data": {
      "image/png": "[encoded data removed]",
      "text/plain": [
       "<Figure size 432x288 with 1 Axes>"
      ]
     },
     "metadata": {
      "needs_background": "light"
     },
     "output_type": "display_data"
    }
   ],
   "source": [
    "#Vemos un simple scatterplot con la relación entre la superficie cubierta y el precio total de las propiedades más caras\n",
    "#sns.scatterplot(x = \"surface_covered_in_m2\", y = df_high.price/1000000, data = df_high)"
   ]
  },
  {
   "cell_type": "code",
   "execution_count": 115,
   "metadata": {},
   "outputs": [
    {
     "name": "stdout",
     "output_type": "stream",
     "text": [
      "Precio más alto:  2700000.0\n"
     ]
    }
   ],
   "source": [
    "print (\"Precio más alto: \",df[\"price\"].max())"
   ]
  },
  {
   "cell_type": "code",
   "execution_count": 116,
   "metadata": {},
   "outputs": [],
   "source": [
    "#print (\"Precio más alto: \",df_high[\"price\"].max())"
   ]
  },
  {
   "cell_type": "code",
   "execution_count": 126,
   "metadata": {},
   "outputs": [
    {
     "data": {
      "text/html": [
       "<div>\n",
       "<style scoped>\n",
       "    .dataframe tbody tr th:only-of-type {\n",
       "        vertical-align: middle;\n",
       "    }\n",
       "\n",
       "    .dataframe tbody tr th {\n",
       "        vertical-align: top;\n",
       "    }\n",
       "\n",
       "    .dataframe thead th {\n",
       "        text-align: right;\n",
       "    }\n",
       "</style>\n",
       "<table border=\"1\" class=\"dataframe\">\n",
       "  <thead>\n",
       "    <tr style=\"text-align: right;\">\n",
       "      <th></th>\n",
       "      <th>Unnamed: 0</th>\n",
       "      <th>property_type</th>\n",
       "      <th>place_name</th>\n",
       "      <th>place_with_parent_names</th>\n",
       "      <th>state_name</th>\n",
       "      <th>lat</th>\n",
       "      <th>lon</th>\n",
       "      <th>price</th>\n",
       "      <th>currency</th>\n",
       "      <th>surface_total_in_m2</th>\n",
       "      <th>surface_covered_in_m2</th>\n",
       "      <th>price_usd_per_m2</th>\n",
       "      <th>price_per_m2</th>\n",
       "      <th>floor</th>\n",
       "      <th>rooms</th>\n",
       "      <th>expenses</th>\n",
       "      <th>description</th>\n",
       "      <th>title</th>\n",
       "    </tr>\n",
       "  </thead>\n",
       "  <tbody>\n",
       "    <tr>\n",
       "      <th>50599</th>\n",
       "      <td>50599</td>\n",
       "      <td>house</td>\n",
       "      <td>San Isidro</td>\n",
       "      <td>|Argentina|Bs.As. G.B.A. Zona Norte|San Isidro|</td>\n",
       "      <td>Bs.As. G.B.A. Zona Norte</td>\n",
       "      <td>NaN</td>\n",
       "      <td>NaN</td>\n",
       "      <td>2700000.0</td>\n",
       "      <td>USD</td>\n",
       "      <td>900.0</td>\n",
       "      <td>600.0</td>\n",
       "      <td>3000.0</td>\n",
       "      <td>4500.0</td>\n",
       "      <td>NaN</td>\n",
       "      <td>NaN</td>\n",
       "      <td>NaN</td>\n",
       "      <td>Extraordinaria casa A ESTRENAR. Desarrollada e...</td>\n",
       "      <td>Casa 900m² con Dependencias, Bs.As. G.B.A. Zon...</td>\n",
       "    </tr>\n",
       "  </tbody>\n",
       "</table>\n",
       "</div>"
      ],
      "text/plain": [
       "       Unnamed: 0 property_type  place_name  \\\n",
       "50599       50599         house  San Isidro   \n",
       "\n",
       "                               place_with_parent_names  \\\n",
       "50599  |Argentina|Bs.As. G.B.A. Zona Norte|San Isidro|   \n",
       "\n",
       "                     state_name  lat  lon      price currency  \\\n",
       "50599  Bs.As. G.B.A. Zona Norte  NaN  NaN  2700000.0      USD   \n",
       "\n",
       "       surface_total_in_m2  surface_covered_in_m2  price_usd_per_m2  \\\n",
       "50599                900.0                  600.0            3000.0   \n",
       "\n",
       "       price_per_m2  floor  rooms  expenses  \\\n",
       "50599        4500.0    NaN    NaN       NaN   \n",
       "\n",
       "                                             description  \\\n",
       "50599  Extraordinaria casa A ESTRENAR. Desarrollada e...   \n",
       "\n",
       "                                                   title  \n",
       "50599  Casa 900m² con Dependencias, Bs.As. G.B.A. Zon...  "
      ]
     },
     "execution_count": 126,
     "metadata": {},
     "output_type": "execute_result"
    }
   ],
   "source": [
    "#Analizamos lo propiedad con el valor más elevado\n",
    "df[df[\"price\"]==df[\"price\"].max()]"
   ]
  },
  {
   "cell_type": "code",
   "execution_count": 132,
   "metadata": {},
   "outputs": [
    {
     "data": {
      "text/plain": [
       "<AxesSubplot:xlabel='rooms', ylabel='price'>"
      ]
     },
     "execution_count": 132,
     "metadata": {},
     "output_type": "execute_result"
    },
    {
     "data": {
      "image/png": "[encoded data removed]",
      "text/plain": [
       "<Figure size 1296x576 with 1 Axes>"
      ]
     },
     "metadata": {
      "needs_background": "light"
     },
     "output_type": "display_data"
    }
   ],
   "source": [
    "#Analizamos la distribución de los valores de las propiedades del dataset limpio, en relación a la cantidad de rooms\n",
    "plt.figure(figsize=(18,8))\n",
    "sns.violinplot(df.rooms[df.rooms<11],df.price/100000)"
   ]
  },
  {
   "cell_type": "code",
   "execution_count": 128,
   "metadata": {},
   "outputs": [],
   "source": [
    "#Analizamos la distribución de los valores de las propiedades más caras en relación a la cantidad de rooms\n",
    "#plt.figure(figsize=(14,9))\n",
    "#sns.violinplot(df_high.rooms[df_high.rooms<10],df_high.price/1000000)"
   ]
  },
  {
   "cell_type": "code",
   "execution_count": 131,
   "metadata": {},
   "outputs": [
    {
     "data": {
      "text/plain": [
       "<AxesSubplot:xlabel='surface_covered_in_m2', ylabel='price'>"
      ]
     },
     "execution_count": 131,
     "metadata": {},
     "output_type": "execute_result"
    },
    {
     "data": {
      "image/png": "[encoded data removed]",
      "text/plain": [
       "<Figure size 1440x576 with 1 Axes>"
      ]
     },
     "metadata": {
      "needs_background": "light"
     },
     "output_type": "display_data"
    }
   ],
   "source": [
    "#Analizamos el valor de las propiedades por rango de metros cuadrados cubiertos\n",
    "plt.figure(figsize=(20,8))\n",
    "sns.violinplot(pd.cut(df.surface_covered_in_m2,8),df.price)"
   ]
  },
  {
   "cell_type": "code",
   "execution_count": 133,
   "metadata": {},
   "outputs": [],
   "source": [
    "#Generamos un df nuevo con menos variables para analizar la relación en un pairplot\n",
    "df2 = df[[\"price\",\"property_type\",\"surface_covered_in_m2\",\"rooms\"]]"
   ]
  },
  {
   "cell_type": "code",
   "execution_count": 134,
   "metadata": {},
   "outputs": [
    {
     "data": {
      "text/plain": [
       "<seaborn.axisgrid.PairGrid at 0x1b9b368a108>"
      ]
     },
     "execution_count": 134,
     "metadata": {},
     "output_type": "execute_result"
    },
    {
     "data": {
      "image/png": "[encoded data removed]",
      "text/plain": [
       "<Figure size 540x540 with 12 Axes>"
      ]
     },
     "metadata": {
      "needs_background": "light"
     },
     "output_type": "display_data"
    }
   ],
   "source": [
    "#Analizamos las propiedades del dataset limpio en el pairplot para evaluar si se mantiene una relación lineal de algún tipo\n",
    "sns.pairplot(df2.sample(5000))"
   ]
  },
  {
   "cell_type": "code",
   "execution_count": 135,
   "metadata": {},
   "outputs": [],
   "source": [
    "#Analizamos las propiedades más caras en el pairplot para evaluar si se mantiene una relación lineal de algún tipo\n",
    "#df3 = df_high[[\"price\",\"property_type\",\"surface_covered_in_m2\",\"rooms\"]]\n",
    "#sns.pairplot(df3)"
   ]
  },
  {
   "cell_type": "code",
   "execution_count": 136,
   "metadata": {},
   "outputs": [
    {
     "data": {
      "text/plain": [
       "<seaborn.axisgrid.JointGrid at 0x1b9bfa55dc8>"
      ]
     },
     "execution_count": 136,
     "metadata": {},
     "output_type": "execute_result"
    },
    {
     "data": {
      "text/plain": [
       "<Figure size 1008x432 with 0 Axes>"
      ]
     },
     "metadata": {},
     "output_type": "display_data"
    },
    {
     "data": {
      "image/png": "[encoded data removed]",
      "text/plain": [
       "<Figure size 432x432 with 3 Axes>"
      ]
     },
     "metadata": {
      "needs_background": "light"
     },
     "output_type": "display_data"
    }
   ],
   "source": [
    "#Generamos un jointplot para ver la densidad en la relación superficie cubierta / precio\n",
    "plt.figure(figsize=(14,6))\n",
    "sns.jointplot(x='surface_covered_in_m2', y='price', data=df, kind='hex', \n",
    "              gridsize=38, xlim = (0,250), ylim = (0,600000))"
   ]
  },
  {
   "cell_type": "code",
   "execution_count": 137,
   "metadata": {},
   "outputs": [
    {
     "data": {
      "text/plain": [
       "<seaborn.axisgrid.JointGrid at 0x1b9bfc877c8>"
      ]
     },
     "execution_count": 137,
     "metadata": {},
     "output_type": "execute_result"
    },
    {
     "data": {
      "text/plain": [
       "<Figure size 1008x720 with 0 Axes>"
      ]
     },
     "metadata": {},
     "output_type": "display_data"
    },
    {
     "data": {
      "image/png": "[encoded data removed]",
      "text/plain": [
       "<Figure size 432x432 with 3 Axes>"
      ]
     },
     "metadata": {
      "needs_background": "light"
     },
     "output_type": "display_data"
    }
   ],
   "source": [
    "#Generamos otro jointplot con distintos parámetros para ver la densidad en la relación superficie cubierta / precio\n",
    "plt.figure(figsize=(14,10))\n",
    "sns.jointplot(x='surface_total_in_m2', y='price_usd_per_m2', data=df, kind='hex', \n",
    "              gridsize=80, xlim = (20,260), ylim = (500,4500))"
   ]
  },
  {
   "cell_type": "markdown",
   "metadata": {},
   "source": [
    "## Regresión lineal múltiple"
   ]
  },
  {
   "cell_type": "code",
   "execution_count": 138,
   "metadata": {},
   "outputs": [],
   "source": [
    "#Generamos las dummies\n",
    "dummies = pd.get_dummies(df.loc[:,'property_type'], drop_first=True)\n",
    "dummies_state = pd.get_dummies(df.loc[:,'state_name'], drop_first=True)\n",
    "dummies_place_names = pd.get_dummies(df.loc[:,'place_name'], drop_first=True)"
   ]
  },
  {
   "cell_type": "code",
   "execution_count": 139,
   "metadata": {},
   "outputs": [],
   "source": [
    "df_dummies  = pd.concat([df,dummies], axis = 1)\n",
    "df_dummies_place  = pd.concat([df,dummies_state,dummies], axis = 1)"
   ]
  },
  {
   "cell_type": "code",
   "execution_count": 140,
   "metadata": {},
   "outputs": [],
   "source": [
    "#Definimos una serie de barrios en particular\n",
    "barrios = df_dummies.place_name.apply(lambda x: x in [\"Belgrano\", \"Caballito\", \"Palermo\", \"Almagro\", \"Villa Crespo\"])\n",
    "df_prepared = pd.concat([df_dummies[barrios], pd.get_dummies(df[barrios].place_name, drop_first=True)], axis=1)\n",
    "#df_prepared.head(3)"
   ]
  },
  {
   "cell_type": "code",
   "execution_count": 141,
   "metadata": {},
   "outputs": [],
   "source": [
    "#Guardamos un nuevo df con los datos convertidos a dummies\n",
    "df_clean_dum = pd.concat([df, dummies, dummies_place_names], axis = 1)\n",
    "#df_clean_dum.head(3)"
   ]
  },
  {
   "cell_type": "code",
   "execution_count": 142,
   "metadata": {},
   "outputs": [],
   "source": [
    "df_dummies  = pd.concat([df,dummies], axis = 1)\n",
    "df_dummies_place  = pd.concat([df,dummies_state,dummies], axis = 1)\n",
    "df_dummies_place_names  = pd.concat([df_prepared,dummies_state,dummies,dummies_place_names], axis = 1)"
   ]
  },
  {
   "cell_type": "code",
   "execution_count": 143,
   "metadata": {},
   "outputs": [
    {
     "data": {
      "text/plain": [
       "Index(['Caballito', 'Belgrano', 'Palermo', 'Villa Urquiza', 'Villa Crespo',\n",
       "       'Flores', 'Almagro', 'San Telmo', 'Recoleta', 'Capital Federal',\n",
       "       'Barrio Norte', 'Nuñez', 'Saavedra', 'Palermo Hollywood',\n",
       "       'Villa del Parque', 'Villa Luro', 'Palermo Soho', 'Balvanera',\n",
       "       'Floresta', 'Barracas', 'Monserrat', 'Mataderos', 'Villa Devoto',\n",
       "       'Coghlan', 'Colegiales', 'San Cristobal', 'Parque Patricios', 'Liniers',\n",
       "       'Chacarita', 'Boedo', 'Constitución', 'Villa Pueyrredón'],\n",
       "      dtype='object')"
      ]
     },
     "execution_count": 143,
     "metadata": {},
     "output_type": "execute_result"
    }
   ],
   "source": [
    "#Nos quedamos con los barrios de CABA con más de 100 registros en place name\n",
    "v_counts = df[df.state_name == 'Capital Federal'].place_name.value_counts()\n",
    "v_counts = v_counts[v_counts>100].index\n",
    "v_counts"
   ]
  },
  {
   "cell_type": "code",
   "execution_count": 144,
   "metadata": {},
   "outputs": [],
   "source": [
    "#Generamos distintos criterios de features a considerar\n",
    "feature_cols_dum = [\"surface_total_in_m2\",\"apartment\",\"house\",\"store\"]\n",
    "feature_cols_dum2 = [\"surface_total_in_m2\",\"apartment\",\"house\",\"store\",'Bs.As. G.B.A. Zona Oeste', 'Bs.As. G.B.A. Zona Sur',\n",
    "       'Buenos Aires Costa Atlántica', 'Buenos Aires Interior', 'Capital Federal', 'Córdoba', 'Neuquén', 'San Luis', 'Santa Fe']\n",
    "feature_cols_dum3 = ['surface_total_in_m2', 'apartment', 'house', 'store', \"Belgrano\", \"Caballito\", \"Palermo\", \"Villa Crespo\"]\n",
    "feature_cols_dum4 = [\"surface_total_in_m2\",\"apartment\",\"house\",\"store\", 'Bs.As. G.B.A. Zona Oeste', 'Bs.As. G.B.A. Zona Sur',\n",
    "                     'Buenos Aires Costa Atlántica', 'Buenos Aires Interior', 'Capital Federal', 'Córdoba', 'Neuquén', 'San Luis',\n",
    "                     'Santa Fe', 'Caballito', 'Belgrano', 'Palermo', 'Villa Urquiza', 'Villa Crespo', 'Flores', 'Almagro', 'San Telmo', \n",
    "                     'Recoleta', 'Capital Federal', 'Barrio Norte', 'Nuñez', 'Saavedra', 'Palermo Hollywood', 'Villa del Parque', 'Villa Luro', \n",
    "                     'Palermo Soho', 'Balvanera', 'Floresta', 'Barracas', 'Monserrat', 'Mataderos', 'Villa Devoto', 'Coghlan', 'Colegiales', \n",
    "                     'San Cristobal', 'Parque Patricios', 'Liniers', 'Chacarita', 'Boedo', 'Constitución', 'Villa Pueyrredón']"
   ]
  },
  {
   "cell_type": "code",
   "execution_count": 147,
   "metadata": {},
   "outputs": [
    {
     "data": {
      "text/html": [
       "<div>\n",
       "<style scoped>\n",
       "    .dataframe tbody tr th:only-of-type {\n",
       "        vertical-align: middle;\n",
       "    }\n",
       "\n",
       "    .dataframe tbody tr th {\n",
       "        vertical-align: top;\n",
       "    }\n",
       "\n",
       "    .dataframe thead th {\n",
       "        text-align: right;\n",
       "    }\n",
       "</style>\n",
       "<table border=\"1\" class=\"dataframe\">\n",
       "  <thead>\n",
       "    <tr style=\"text-align: right;\">\n",
       "      <th></th>\n",
       "      <th>Unnamed: 0</th>\n",
       "      <th>property_type</th>\n",
       "      <th>place_name</th>\n",
       "      <th>place_with_parent_names</th>\n",
       "      <th>state_name</th>\n",
       "      <th>lat</th>\n",
       "      <th>lon</th>\n",
       "      <th>price</th>\n",
       "      <th>currency</th>\n",
       "      <th>surface_total_in_m2</th>\n",
       "      <th>...</th>\n",
       "      <th>Corrientes</th>\n",
       "      <th>Córdoba</th>\n",
       "      <th>Mendoza</th>\n",
       "      <th>Neuquén</th>\n",
       "      <th>Río Negro</th>\n",
       "      <th>San Luis</th>\n",
       "      <th>Santa Fe</th>\n",
       "      <th>apartment</th>\n",
       "      <th>house</th>\n",
       "      <th>store</th>\n",
       "    </tr>\n",
       "  </thead>\n",
       "  <tbody>\n",
       "    <tr>\n",
       "      <th>7</th>\n",
       "      <td>7</td>\n",
       "      <td>apartment</td>\n",
       "      <td>Belgrano</td>\n",
       "      <td>|Argentina|Capital Federal|Belgrano|</td>\n",
       "      <td>Capital Federal</td>\n",
       "      <td>-34.559873</td>\n",
       "      <td>-58.443362</td>\n",
       "      <td>138000.0</td>\n",
       "      <td>USD</td>\n",
       "      <td>45.0</td>\n",
       "      <td>...</td>\n",
       "      <td>0</td>\n",
       "      <td>0</td>\n",
       "      <td>0</td>\n",
       "      <td>0</td>\n",
       "      <td>0</td>\n",
       "      <td>0</td>\n",
       "      <td>0</td>\n",
       "      <td>1</td>\n",
       "      <td>0</td>\n",
       "      <td>0</td>\n",
       "    </tr>\n",
       "    <tr>\n",
       "      <th>8</th>\n",
       "      <td>8</td>\n",
       "      <td>apartment</td>\n",
       "      <td>Belgrano</td>\n",
       "      <td>|Argentina|Capital Federal|Belgrano|</td>\n",
       "      <td>Capital Federal</td>\n",
       "      <td>-34.559873</td>\n",
       "      <td>-58.443362</td>\n",
       "      <td>195000.0</td>\n",
       "      <td>USD</td>\n",
       "      <td>65.0</td>\n",
       "      <td>...</td>\n",
       "      <td>0</td>\n",
       "      <td>0</td>\n",
       "      <td>0</td>\n",
       "      <td>0</td>\n",
       "      <td>0</td>\n",
       "      <td>0</td>\n",
       "      <td>0</td>\n",
       "      <td>1</td>\n",
       "      <td>0</td>\n",
       "      <td>0</td>\n",
       "    </tr>\n",
       "    <tr>\n",
       "      <th>12</th>\n",
       "      <td>12</td>\n",
       "      <td>apartment</td>\n",
       "      <td>Martínez</td>\n",
       "      <td>|Argentina|Bs.As. G.B.A. Zona Norte|San Isidro...</td>\n",
       "      <td>Bs.As. G.B.A. Zona Norte</td>\n",
       "      <td>-34.486019</td>\n",
       "      <td>-58.503814</td>\n",
       "      <td>115000.0</td>\n",
       "      <td>USD</td>\n",
       "      <td>39.0</td>\n",
       "      <td>...</td>\n",
       "      <td>0</td>\n",
       "      <td>0</td>\n",
       "      <td>0</td>\n",
       "      <td>0</td>\n",
       "      <td>0</td>\n",
       "      <td>0</td>\n",
       "      <td>0</td>\n",
       "      <td>1</td>\n",
       "      <td>0</td>\n",
       "      <td>0</td>\n",
       "    </tr>\n",
       "  </tbody>\n",
       "</table>\n",
       "<p>3 rows × 33 columns</p>\n",
       "</div>"
      ],
      "text/plain": [
       "    Unnamed: 0 property_type place_name  \\\n",
       "7            7     apartment   Belgrano   \n",
       "8            8     apartment   Belgrano   \n",
       "12          12     apartment   Martínez   \n",
       "\n",
       "                              place_with_parent_names  \\\n",
       "7                |Argentina|Capital Federal|Belgrano|   \n",
       "8                |Argentina|Capital Federal|Belgrano|   \n",
       "12  |Argentina|Bs.As. G.B.A. Zona Norte|San Isidro...   \n",
       "\n",
       "                  state_name        lat        lon     price currency  \\\n",
       "7            Capital Federal -34.559873 -58.443362  138000.0      USD   \n",
       "8            Capital Federal -34.559873 -58.443362  195000.0      USD   \n",
       "12  Bs.As. G.B.A. Zona Norte -34.486019 -58.503814  115000.0      USD   \n",
       "\n",
       "    surface_total_in_m2  ...  Corrientes  Córdoba  Mendoza  Neuquén  \\\n",
       "7                  45.0  ...           0        0        0        0   \n",
       "8                  65.0  ...           0        0        0        0   \n",
       "12                 39.0  ...           0        0        0        0   \n",
       "\n",
       "    Río Negro  San Luis Santa Fe apartment  house  store  \n",
       "7           0         0        0         1      0      0  \n",
       "8           0         0        0         1      0      0  \n",
       "12          0         0        0         1      0      0  \n",
       "\n",
       "[3 rows x 33 columns]"
      ]
     },
     "execution_count": 147,
     "metadata": {},
     "output_type": "execute_result"
    }
   ],
   "source": [
    "df_dummies_place.head(3)"
   ]
  },
  {
   "cell_type": "code",
   "execution_count": 148,
   "metadata": {},
   "outputs": [],
   "source": [
    "#Generamos los vectores con las features y la variable objetivo"
   ]
  },
  {
   "cell_type": "code",
   "execution_count": 149,
   "metadata": {},
   "outputs": [],
   "source": [
    "X = df_dummies_place[feature_cols_dum]\n",
    "y = df_dummies_place['price_usd_per_m2']"
   ]
  },
  {
   "cell_type": "code",
   "execution_count": 150,
   "metadata": {},
   "outputs": [],
   "source": [
    "X2 = df_dummies_place[feature_cols_dum2]\n",
    "y2 = df_dummies_place['price_usd_per_m2']"
   ]
  },
  {
   "cell_type": "code",
   "execution_count": 151,
   "metadata": {},
   "outputs": [],
   "source": [
    "X3 = df_prepared[feature_cols_dum3]\n",
    "y3 = df_prepared['price_usd_per_m2']"
   ]
  },
  {
   "cell_type": "code",
   "execution_count": 152,
   "metadata": {},
   "outputs": [],
   "source": [
    "X4 = df_clean_dum[feature_cols_dum4]\n",
    "y4 = df_clean_dum['price_usd_per_m2']"
   ]
  },
  {
   "cell_type": "code",
   "execution_count": 153,
   "metadata": {},
   "outputs": [],
   "source": [
    "X5 = df_clean_dum[feature_cols_dum2]\n",
    "y5 = df_clean_dum['price_usd_per_m2']"
   ]
  },
  {
   "cell_type": "code",
   "execution_count": 154,
   "metadata": {},
   "outputs": [],
   "source": [
    "from sklearn.linear_model import LinearRegression\n",
    "from sklearn import metrics\n",
    "import statsmodels. api as sm"
   ]
  },
  {
   "cell_type": "code",
   "execution_count": 155,
   "metadata": {},
   "outputs": [],
   "source": [
    "#Instanciamos el modelo\n",
    "linreg = LinearRegression(n_jobs = 2)"
   ]
  },
  {
   "cell_type": "code",
   "execution_count": 156,
   "metadata": {},
   "outputs": [],
   "source": [
    "#Hacemos el split en entrenamiento y testeo al 35%\n",
    "from sklearn.model_selection import train_test_split\n",
    "X_train, X_test, y_train, y_test = train_test_split(X, y, test_size=0.35, random_state=10)"
   ]
  },
  {
   "cell_type": "code",
   "execution_count": 157,
   "metadata": {},
   "outputs": [
    {
     "data": {
      "text/plain": [
       "LinearRegression(n_jobs=2)"
      ]
     },
     "execution_count": 157,
     "metadata": {},
     "output_type": "execute_result"
    }
   ],
   "source": [
    "#Fiteamos\n",
    "linreg.fit(X_train, y_train)"
   ]
  },
  {
   "cell_type": "code",
   "execution_count": 158,
   "metadata": {},
   "outputs": [],
   "source": [
    "#Guardamos los valores predecidos en la variable y_pred\n",
    "y_pred = linreg.predict(X_test)"
   ]
  },
  {
   "cell_type": "code",
   "execution_count": 159,
   "metadata": {},
   "outputs": [],
   "source": [
    "from sklearn.metrics import mean_absolute_error\n",
    "from sklearn.metrics import mean_squared_error\n",
    "from sklearn.metrics import r2_score"
   ]
  },
  {
   "cell_type": "code",
   "execution_count": 160,
   "metadata": {},
   "outputs": [],
   "source": [
    "#Verificamos las métricas tradicionales de regresioón lineal\n",
    "mae = mean_absolute_error(y_test, y_pred)\n",
    "mse = mean_squared_error(y_test, y_pred)\n",
    "rmse = np.sqrt(mse)\n",
    "r2 = r2_score(y_test, y_pred)"
   ]
  },
  {
   "cell_type": "code",
   "execution_count": 161,
   "metadata": {},
   "outputs": [
    {
     "name": "stdout",
     "output_type": "stream",
     "text": [
      "El R2 de testeo del modelo es 0.5\n",
      "La media del error absoluto es 511.42\n",
      "La media del error cuadrático es 430811.49\n",
      "La raíz del error cuadrático medio 656.36\n"
     ]
    }
   ],
   "source": [
    "print('El R2 de testeo del modelo es', r2_score(y_test, y_pred).round(2))\n",
    "print('La media del error absoluto es', mae.round(2))\n",
    "print('La media del error cuadrático es', mse.round(2))\n",
    "print('La raíz del error cuadrático medio', rmse.round(2))"
   ]
  },
  {
   "cell_type": "code",
   "execution_count": 95,
   "metadata": {},
   "outputs": [],
   "source": [
    "#np.sqrt(metrics.mean_squared_error(y_test, y_pred))"
   ]
  },
  {
   "cell_type": "code",
   "execution_count": 162,
   "metadata": {},
   "outputs": [],
   "source": [
    "#Verificamos en statsmodels\n",
    "model = sm.OLS(y, sm.add_constant(X)).fit()\n",
    "predictions = model.predict(sm.add_constant(X))"
   ]
  },
  {
   "cell_type": "code",
   "execution_count": 163,
   "metadata": {},
   "outputs": [
    {
     "data": {
      "image/png": "[encoded data removed]",
      "text/plain": [
       "<Figure size 432x288 with 1 Axes>"
      ]
     },
     "metadata": {
      "needs_background": "light"
     },
     "output_type": "display_data"
    },
    {
     "data": {
      "text/html": [
       "<table class=\"simpletable\">\n",
       "<caption>OLS Regression Results</caption>\n",
       "<tr>\n",
       "  <th>Dep. Variable:</th>    <td>price_usd_per_m2</td> <th>  R-squared:         </th>  <td>   0.499</td>  \n",
       "</tr>\n",
       "<tr>\n",
       "  <th>Model:</th>                   <td>OLS</td>       <th>  Adj. R-squared:    </th>  <td>   0.499</td>  \n",
       "</tr>\n",
       "<tr>\n",
       "  <th>Method:</th>             <td>Least Squares</td>  <th>  F-statistic:       </th>  <td>   7927.</td>  \n",
       "</tr>\n",
       "<tr>\n",
       "  <th>Date:</th>             <td>Thu, 17 Dec 2020</td> <th>  Prob (F-statistic):</th>   <td>  0.00</td>   \n",
       "</tr>\n",
       "<tr>\n",
       "  <th>Time:</th>                 <td>21:48:45</td>     <th>  Log-Likelihood:    </th> <td>-2.5183e+05</td>\n",
       "</tr>\n",
       "<tr>\n",
       "  <th>No. Observations:</th>      <td> 31841</td>      <th>  AIC:               </th>  <td>5.037e+05</td> \n",
       "</tr>\n",
       "<tr>\n",
       "  <th>Df Residuals:</th>          <td> 31836</td>      <th>  BIC:               </th>  <td>5.037e+05</td> \n",
       "</tr>\n",
       "<tr>\n",
       "  <th>Df Model:</th>              <td>     4</td>      <th>                     </th>      <td> </td>     \n",
       "</tr>\n",
       "<tr>\n",
       "  <th>Covariance Type:</th>      <td>nonrobust</td>    <th>                     </th>      <td> </td>     \n",
       "</tr>\n",
       "</table>\n",
       "<table class=\"simpletable\">\n",
       "<tr>\n",
       "           <td></td>              <th>coef</th>     <th>std err</th>      <th>t</th>      <th>P>|t|</th>  <th>[0.025</th>    <th>0.975]</th>  \n",
       "</tr>\n",
       "<tr>\n",
       "  <th>const</th>               <td> 1476.9536</td> <td>   15.459</td> <td>   95.539</td> <td> 0.000</td> <td> 1446.653</td> <td> 1507.254</td>\n",
       "</tr>\n",
       "<tr>\n",
       "  <th>surface_total_in_m2</th> <td>   -1.1278</td> <td>    0.029</td> <td>  -39.194</td> <td> 0.000</td> <td>   -1.184</td> <td>   -1.071</td>\n",
       "</tr>\n",
       "<tr>\n",
       "  <th>apartment</th>           <td>  970.4906</td> <td>   15.851</td> <td>   61.226</td> <td> 0.000</td> <td>  939.422</td> <td> 1001.559</td>\n",
       "</tr>\n",
       "<tr>\n",
       "  <th>house</th>               <td>  -59.0803</td> <td>   17.876</td> <td>   -3.305</td> <td> 0.001</td> <td>  -94.119</td> <td>  -24.042</td>\n",
       "</tr>\n",
       "<tr>\n",
       "  <th>store</th>               <td>  441.3089</td> <td>   41.094</td> <td>   10.739</td> <td> 0.000</td> <td>  360.762</td> <td>  521.856</td>\n",
       "</tr>\n",
       "</table>\n",
       "<table class=\"simpletable\">\n",
       "<tr>\n",
       "  <th>Omnibus:</th>       <td>1859.856</td> <th>  Durbin-Watson:     </th> <td>   1.563</td>\n",
       "</tr>\n",
       "<tr>\n",
       "  <th>Prob(Omnibus):</th>  <td> 0.000</td>  <th>  Jarque-Bera (JB):  </th> <td>2402.336</td>\n",
       "</tr>\n",
       "<tr>\n",
       "  <th>Skew:</th>           <td> 0.561</td>  <th>  Prob(JB):          </th> <td>    0.00</td>\n",
       "</tr>\n",
       "<tr>\n",
       "  <th>Kurtosis:</th>       <td> 3.744</td>  <th>  Cond. No.          </th> <td>2.94e+03</td>\n",
       "</tr>\n",
       "</table><br/><br/>Warnings:<br/>[1] Standard Errors assume that the covariance matrix of the errors is correctly specified.<br/>[2] The condition number is large, 2.94e+03. This might indicate that there are<br/>strong multicollinearity or other numerical problems."
      ],
      "text/plain": [
       "<class 'statsmodels.iolib.summary.Summary'>\n",
       "\"\"\"\n",
       "                            OLS Regression Results                            \n",
       "==============================================================================\n",
       "Dep. Variable:       price_usd_per_m2   R-squared:                       0.499\n",
       "Model:                            OLS   Adj. R-squared:                  0.499\n",
       "Method:                 Least Squares   F-statistic:                     7927.\n",
       "Date:                Thu, 17 Dec 2020   Prob (F-statistic):               0.00\n",
       "Time:                        21:48:45   Log-Likelihood:            -2.5183e+05\n",
       "No. Observations:               31841   AIC:                         5.037e+05\n",
       "Df Residuals:                   31836   BIC:                         5.037e+05\n",
       "Df Model:                           4                                         \n",
       "Covariance Type:            nonrobust                                         \n",
       "=======================================================================================\n",
       "                          coef    std err          t      P>|t|      [0.025      0.975]\n",
       "---------------------------------------------------------------------------------------\n",
       "const                1476.9536     15.459     95.539      0.000    1446.653    1507.254\n",
       "surface_total_in_m2    -1.1278      0.029    -39.194      0.000      -1.184      -1.071\n",
       "apartment             970.4906     15.851     61.226      0.000     939.422    1001.559\n",
       "house                 -59.0803     17.876     -3.305      0.001     -94.119     -24.042\n",
       "store                 441.3089     41.094     10.739      0.000     360.762     521.856\n",
       "==============================================================================\n",
       "Omnibus:                     1859.856   Durbin-Watson:                   1.563\n",
       "Prob(Omnibus):                  0.000   Jarque-Bera (JB):             2402.336\n",
       "Skew:                           0.561   Prob(JB):                         0.00\n",
       "Kurtosis:                       3.744   Cond. No.                     2.94e+03\n",
       "==============================================================================\n",
       "\n",
       "Warnings:\n",
       "[1] Standard Errors assume that the covariance matrix of the errors is correctly specified.\n",
       "[2] The condition number is large, 2.94e+03. This might indicate that there are\n",
       "strong multicollinearity or other numerical problems.\n",
       "\"\"\""
      ]
     },
     "execution_count": 163,
     "metadata": {},
     "output_type": "execute_result"
    }
   ],
   "source": [
    "#Vemos las predicciones en base al modelo lineal y el reporte de statsmodel OLS\n",
    "plt.plot(y,y, '-.', c='grey')\n",
    "plt.scatter(predictions, y, s=30, c='r', marker='+', zorder=10)\n",
    "plt.xlabel(\"Predicciones\")\n",
    "plt.ylabel(\"Reales\")\n",
    "plt.show()\n",
    "\n",
    "model.summary()"
   ]
  },
  {
   "cell_type": "code",
   "execution_count": 165,
   "metadata": {},
   "outputs": [],
   "source": [
    "model_split = sm.OLS(y_train, sm.add_constant(X_train)).fit()\n",
    "predictions_split = model_split.predict(sm.add_constant(X_test))"
   ]
  },
  {
   "cell_type": "code",
   "execution_count": 166,
   "metadata": {},
   "outputs": [
    {
     "data": {
      "image/png": "[encoded data removed]",
      "text/plain": [
       "<Figure size 432x288 with 1 Axes>"
      ]
     },
     "metadata": {
      "needs_background": "light"
     },
     "output_type": "display_data"
    },
    {
     "data": {
      "text/html": [
       "<table class=\"simpletable\">\n",
       "<caption>OLS Regression Results</caption>\n",
       "<tr>\n",
       "  <th>Dep. Variable:</th>    <td>price_usd_per_m2</td> <th>  R-squared:         </th>  <td>   0.499</td>  \n",
       "</tr>\n",
       "<tr>\n",
       "  <th>Model:</th>                   <td>OLS</td>       <th>  Adj. R-squared:    </th>  <td>   0.498</td>  \n",
       "</tr>\n",
       "<tr>\n",
       "  <th>Method:</th>             <td>Least Squares</td>  <th>  F-statistic:       </th>  <td>   5143.</td>  \n",
       "</tr>\n",
       "<tr>\n",
       "  <th>Date:</th>             <td>Thu, 17 Dec 2020</td> <th>  Prob (F-statistic):</th>   <td>  0.00</td>   \n",
       "</tr>\n",
       "<tr>\n",
       "  <th>Time:</th>                 <td>21:51:20</td>     <th>  Log-Likelihood:    </th> <td>-1.6372e+05</td>\n",
       "</tr>\n",
       "<tr>\n",
       "  <th>No. Observations:</th>      <td> 20696</td>      <th>  AIC:               </th>  <td>3.274e+05</td> \n",
       "</tr>\n",
       "<tr>\n",
       "  <th>Df Residuals:</th>          <td> 20691</td>      <th>  BIC:               </th>  <td>3.275e+05</td> \n",
       "</tr>\n",
       "<tr>\n",
       "  <th>Df Model:</th>              <td>     4</td>      <th>                     </th>      <td> </td>     \n",
       "</tr>\n",
       "<tr>\n",
       "  <th>Covariance Type:</th>      <td>nonrobust</td>    <th>                     </th>      <td> </td>     \n",
       "</tr>\n",
       "</table>\n",
       "<table class=\"simpletable\">\n",
       "<tr>\n",
       "           <td></td>              <th>coef</th>     <th>std err</th>      <th>t</th>      <th>P>|t|</th>  <th>[0.025</th>    <th>0.975]</th>  \n",
       "</tr>\n",
       "<tr>\n",
       "  <th>const</th>               <td> 1483.3235</td> <td>   19.250</td> <td>   77.055</td> <td> 0.000</td> <td> 1445.592</td> <td> 1521.055</td>\n",
       "</tr>\n",
       "<tr>\n",
       "  <th>surface_total_in_m2</th> <td>   -1.1181</td> <td>    0.036</td> <td>  -31.324</td> <td> 0.000</td> <td>   -1.188</td> <td>   -1.048</td>\n",
       "</tr>\n",
       "<tr>\n",
       "  <th>apartment</th>           <td>  963.1540</td> <td>   19.744</td> <td>   48.781</td> <td> 0.000</td> <td>  924.454</td> <td> 1001.854</td>\n",
       "</tr>\n",
       "<tr>\n",
       "  <th>house</th>               <td>  -70.1076</td> <td>   22.341</td> <td>   -3.138</td> <td> 0.002</td> <td> -113.897</td> <td>  -26.318</td>\n",
       "</tr>\n",
       "<tr>\n",
       "  <th>store</th>               <td>  482.4351</td> <td>   52.450</td> <td>    9.198</td> <td> 0.000</td> <td>  379.628</td> <td>  585.242</td>\n",
       "</tr>\n",
       "</table>\n",
       "<table class=\"simpletable\">\n",
       "<tr>\n",
       "  <th>Omnibus:</th>       <td>1204.172</td> <th>  Durbin-Watson:     </th> <td>   1.985</td>\n",
       "</tr>\n",
       "<tr>\n",
       "  <th>Prob(Omnibus):</th>  <td> 0.000</td>  <th>  Jarque-Bera (JB):  </th> <td>1550.395</td>\n",
       "</tr>\n",
       "<tr>\n",
       "  <th>Skew:</th>           <td> 0.560</td>  <th>  Prob(JB):          </th> <td>    0.00</td>\n",
       "</tr>\n",
       "<tr>\n",
       "  <th>Kurtosis:</th>       <td> 3.737</td>  <th>  Cond. No.          </th> <td>3.02e+03</td>\n",
       "</tr>\n",
       "</table><br/><br/>Warnings:<br/>[1] Standard Errors assume that the covariance matrix of the errors is correctly specified.<br/>[2] The condition number is large, 3.02e+03. This might indicate that there are<br/>strong multicollinearity or other numerical problems."
      ],
      "text/plain": [
       "<class 'statsmodels.iolib.summary.Summary'>\n",
       "\"\"\"\n",
       "                            OLS Regression Results                            \n",
       "==============================================================================\n",
       "Dep. Variable:       price_usd_per_m2   R-squared:                       0.499\n",
       "Model:                            OLS   Adj. R-squared:                  0.498\n",
       "Method:                 Least Squares   F-statistic:                     5143.\n",
       "Date:                Thu, 17 Dec 2020   Prob (F-statistic):               0.00\n",
       "Time:                        21:51:20   Log-Likelihood:            -1.6372e+05\n",
       "No. Observations:               20696   AIC:                         3.274e+05\n",
       "Df Residuals:                   20691   BIC:                         3.275e+05\n",
       "Df Model:                           4                                         \n",
       "Covariance Type:            nonrobust                                         \n",
       "=======================================================================================\n",
       "                          coef    std err          t      P>|t|      [0.025      0.975]\n",
       "---------------------------------------------------------------------------------------\n",
       "const                1483.3235     19.250     77.055      0.000    1445.592    1521.055\n",
       "surface_total_in_m2    -1.1181      0.036    -31.324      0.000      -1.188      -1.048\n",
       "apartment             963.1540     19.744     48.781      0.000     924.454    1001.854\n",
       "house                 -70.1076     22.341     -3.138      0.002    -113.897     -26.318\n",
       "store                 482.4351     52.450      9.198      0.000     379.628     585.242\n",
       "==============================================================================\n",
       "Omnibus:                     1204.172   Durbin-Watson:                   1.985\n",
       "Prob(Omnibus):                  0.000   Jarque-Bera (JB):             1550.395\n",
       "Skew:                           0.560   Prob(JB):                         0.00\n",
       "Kurtosis:                       3.737   Cond. No.                     3.02e+03\n",
       "==============================================================================\n",
       "\n",
       "Warnings:\n",
       "[1] Standard Errors assume that the covariance matrix of the errors is correctly specified.\n",
       "[2] The condition number is large, 3.02e+03. This might indicate that there are\n",
       "strong multicollinearity or other numerical problems.\n",
       "\"\"\""
      ]
     },
     "execution_count": 166,
     "metadata": {},
     "output_type": "execute_result"
    }
   ],
   "source": [
    "plt.plot(y_test,y_test, '-.', c='grey')\n",
    "plt.scatter(predictions_split, y_test, s=30, c='r', marker='+', zorder=10)\n",
    "plt.xlabel(\"Predicciones\")\n",
    "plt.ylabel(\"Reales\")\n",
    "plt.show()\n",
    "\n",
    "model_split.summary()"
   ]
  },
  {
   "cell_type": "code",
   "execution_count": 167,
   "metadata": {},
   "outputs": [],
   "source": [
    "#Realizamos un nuevo split considerando la segunda alternativa de features\n",
    "X_train2, X_test2, y_train2, y_test2 = train_test_split(X2, y2, test_size=0.35, random_state=10)"
   ]
  },
  {
   "cell_type": "code",
   "execution_count": 170,
   "metadata": {},
   "outputs": [],
   "source": [
    "model = sm.OLS(y_train2, sm.add_constant(X_train2)).fit()\n",
    "predictions = model.predict(sm.add_constant(X_test2))"
   ]
  },
  {
   "cell_type": "code",
   "execution_count": 171,
   "metadata": {},
   "outputs": [
    {
     "data": {
      "image/png": "[encoded data removed]",
      "text/plain": [
       "<Figure size 432x288 with 1 Axes>"
      ]
     },
     "metadata": {
      "needs_background": "light"
     },
     "output_type": "display_data"
    },
    {
     "data": {
      "text/html": [
       "<table class=\"simpletable\">\n",
       "<caption>OLS Regression Results</caption>\n",
       "<tr>\n",
       "  <th>Dep. Variable:</th>    <td>price_usd_per_m2</td> <th>  R-squared:         </th>  <td>   0.587</td>  \n",
       "</tr>\n",
       "<tr>\n",
       "  <th>Model:</th>                   <td>OLS</td>       <th>  Adj. R-squared:    </th>  <td>   0.587</td>  \n",
       "</tr>\n",
       "<tr>\n",
       "  <th>Method:</th>             <td>Least Squares</td>  <th>  F-statistic:       </th>  <td>   2261.</td>  \n",
       "</tr>\n",
       "<tr>\n",
       "  <th>Date:</th>             <td>Thu, 17 Dec 2020</td> <th>  Prob (F-statistic):</th>   <td>  0.00</td>   \n",
       "</tr>\n",
       "<tr>\n",
       "  <th>Time:</th>                 <td>21:52:36</td>     <th>  Log-Likelihood:    </th> <td>-1.6171e+05</td>\n",
       "</tr>\n",
       "<tr>\n",
       "  <th>No. Observations:</th>      <td> 20696</td>      <th>  AIC:               </th>  <td>3.235e+05</td> \n",
       "</tr>\n",
       "<tr>\n",
       "  <th>Df Residuals:</th>          <td> 20682</td>      <th>  BIC:               </th>  <td>3.236e+05</td> \n",
       "</tr>\n",
       "<tr>\n",
       "  <th>Df Model:</th>              <td>    13</td>      <th>                     </th>      <td> </td>     \n",
       "</tr>\n",
       "<tr>\n",
       "  <th>Covariance Type:</th>      <td>nonrobust</td>    <th>                     </th>      <td> </td>     \n",
       "</tr>\n",
       "</table>\n",
       "<table class=\"simpletable\">\n",
       "<tr>\n",
       "                <td></td>                  <th>coef</th>     <th>std err</th>      <th>t</th>      <th>P>|t|</th>  <th>[0.025</th>    <th>0.975]</th>  \n",
       "</tr>\n",
       "<tr>\n",
       "  <th>const</th>                        <td> 1613.3220</td> <td>   19.353</td> <td>   83.363</td> <td> 0.000</td> <td> 1575.389</td> <td> 1651.256</td>\n",
       "</tr>\n",
       "<tr>\n",
       "  <th>surface_total_in_m2</th>          <td>   -1.2389</td> <td>    0.033</td> <td>  -37.785</td> <td> 0.000</td> <td>   -1.303</td> <td>   -1.175</td>\n",
       "</tr>\n",
       "<tr>\n",
       "  <th>apartment</th>                    <td>  860.2419</td> <td>   18.066</td> <td>   47.618</td> <td> 0.000</td> <td>  824.832</td> <td>  895.652</td>\n",
       "</tr>\n",
       "<tr>\n",
       "  <th>house</th>                        <td>   69.5370</td> <td>   20.608</td> <td>    3.374</td> <td> 0.001</td> <td>   29.144</td> <td>  109.930</td>\n",
       "</tr>\n",
       "<tr>\n",
       "  <th>store</th>                        <td>  532.3798</td> <td>   47.667</td> <td>   11.169</td> <td> 0.000</td> <td>  438.949</td> <td>  625.810</td>\n",
       "</tr>\n",
       "<tr>\n",
       "  <th>Bs.As. G.B.A. Zona Oeste</th>     <td> -605.2133</td> <td>   16.954</td> <td>  -35.698</td> <td> 0.000</td> <td> -638.444</td> <td> -571.983</td>\n",
       "</tr>\n",
       "<tr>\n",
       "  <th>Bs.As. G.B.A. Zona Sur</th>       <td> -432.2156</td> <td>   15.980</td> <td>  -27.048</td> <td> 0.000</td> <td> -463.537</td> <td> -400.894</td>\n",
       "</tr>\n",
       "<tr>\n",
       "  <th>Buenos Aires Costa Atlántica</th> <td> -526.1014</td> <td>   17.015</td> <td>  -30.920</td> <td> 0.000</td> <td> -559.452</td> <td> -492.750</td>\n",
       "</tr>\n",
       "<tr>\n",
       "  <th>Buenos Aires Interior</th>        <td> -663.6033</td> <td>   39.987</td> <td>  -16.596</td> <td> 0.000</td> <td> -741.980</td> <td> -585.226</td>\n",
       "</tr>\n",
       "<tr>\n",
       "  <th>Capital Federal</th>              <td>  151.4032</td> <td>   11.078</td> <td>   13.667</td> <td> 0.000</td> <td>  129.689</td> <td>  173.118</td>\n",
       "</tr>\n",
       "<tr>\n",
       "  <th>Córdoba</th>                      <td> -698.4132</td> <td>   31.770</td> <td>  -21.983</td> <td> 0.000</td> <td> -760.685</td> <td> -636.141</td>\n",
       "</tr>\n",
       "<tr>\n",
       "  <th>Neuquén</th>                      <td> -370.8835</td> <td>  107.849</td> <td>   -3.439</td> <td> 0.001</td> <td> -582.275</td> <td> -159.492</td>\n",
       "</tr>\n",
       "<tr>\n",
       "  <th>San Luis</th>                     <td> -428.5384</td> <td>  141.464</td> <td>   -3.029</td> <td> 0.002</td> <td> -705.819</td> <td> -151.258</td>\n",
       "</tr>\n",
       "<tr>\n",
       "  <th>Santa Fe</th>                     <td> -559.5848</td> <td>   36.884</td> <td>  -15.171</td> <td> 0.000</td> <td> -631.881</td> <td> -487.289</td>\n",
       "</tr>\n",
       "</table>\n",
       "<table class=\"simpletable\">\n",
       "<tr>\n",
       "  <th>Omnibus:</th>       <td>1707.519</td> <th>  Durbin-Watson:     </th> <td>   1.980</td>\n",
       "</tr>\n",
       "<tr>\n",
       "  <th>Prob(Omnibus):</th>  <td> 0.000</td>  <th>  Jarque-Bera (JB):  </th> <td>2623.654</td>\n",
       "</tr>\n",
       "<tr>\n",
       "  <th>Skew:</th>           <td> 0.645</td>  <th>  Prob(JB):          </th> <td>    0.00</td>\n",
       "</tr>\n",
       "<tr>\n",
       "  <th>Kurtosis:</th>       <td> 4.175</td>  <th>  Cond. No.          </th> <td>8.67e+03</td>\n",
       "</tr>\n",
       "</table><br/><br/>Warnings:<br/>[1] Standard Errors assume that the covariance matrix of the errors is correctly specified.<br/>[2] The condition number is large, 8.67e+03. This might indicate that there are<br/>strong multicollinearity or other numerical problems."
      ],
      "text/plain": [
       "<class 'statsmodels.iolib.summary.Summary'>\n",
       "\"\"\"\n",
       "                            OLS Regression Results                            \n",
       "==============================================================================\n",
       "Dep. Variable:       price_usd_per_m2   R-squared:                       0.587\n",
       "Model:                            OLS   Adj. R-squared:                  0.587\n",
       "Method:                 Least Squares   F-statistic:                     2261.\n",
       "Date:                Thu, 17 Dec 2020   Prob (F-statistic):               0.00\n",
       "Time:                        21:52:36   Log-Likelihood:            -1.6171e+05\n",
       "No. Observations:               20696   AIC:                         3.235e+05\n",
       "Df Residuals:                   20682   BIC:                         3.236e+05\n",
       "Df Model:                          13                                         \n",
       "Covariance Type:            nonrobust                                         \n",
       "================================================================================================\n",
       "                                   coef    std err          t      P>|t|      [0.025      0.975]\n",
       "------------------------------------------------------------------------------------------------\n",
       "const                         1613.3220     19.353     83.363      0.000    1575.389    1651.256\n",
       "surface_total_in_m2             -1.2389      0.033    -37.785      0.000      -1.303      -1.175\n",
       "apartment                      860.2419     18.066     47.618      0.000     824.832     895.652\n",
       "house                           69.5370     20.608      3.374      0.001      29.144     109.930\n",
       "store                          532.3798     47.667     11.169      0.000     438.949     625.810\n",
       "Bs.As. G.B.A. Zona Oeste      -605.2133     16.954    -35.698      0.000    -638.444    -571.983\n",
       "Bs.As. G.B.A. Zona Sur        -432.2156     15.980    -27.048      0.000    -463.537    -400.894\n",
       "Buenos Aires Costa Atlántica  -526.1014     17.015    -30.920      0.000    -559.452    -492.750\n",
       "Buenos Aires Interior         -663.6033     39.987    -16.596      0.000    -741.980    -585.226\n",
       "Capital Federal                151.4032     11.078     13.667      0.000     129.689     173.118\n",
       "Córdoba                       -698.4132     31.770    -21.983      0.000    -760.685    -636.141\n",
       "Neuquén                       -370.8835    107.849     -3.439      0.001    -582.275    -159.492\n",
       "San Luis                      -428.5384    141.464     -3.029      0.002    -705.819    -151.258\n",
       "Santa Fe                      -559.5848     36.884    -15.171      0.000    -631.881    -487.289\n",
       "==============================================================================\n",
       "Omnibus:                     1707.519   Durbin-Watson:                   1.980\n",
       "Prob(Omnibus):                  0.000   Jarque-Bera (JB):             2623.654\n",
       "Skew:                           0.645   Prob(JB):                         0.00\n",
       "Kurtosis:                       4.175   Cond. No.                     8.67e+03\n",
       "==============================================================================\n",
       "\n",
       "Warnings:\n",
       "[1] Standard Errors assume that the covariance matrix of the errors is correctly specified.\n",
       "[2] The condition number is large, 8.67e+03. This might indicate that there are\n",
       "strong multicollinearity or other numerical problems.\n",
       "\"\"\""
      ]
     },
     "metadata": {},
     "output_type": "display_data"
    }
   ],
   "source": [
    "plt.plot(y2,y2, '-.', c='grey')\n",
    "plt.scatter(predictions, y_test2, s=30, c='r', marker='+', zorder=10)\n",
    "plt.xlabel(\"Predicciones\")\n",
    "plt.ylabel(\"Reales\")\n",
    "plt.show()\n",
    "\n",
    "display (model.summary())"
   ]
  },
  {
   "cell_type": "code",
   "execution_count": null,
   "metadata": {},
   "outputs": [],
   "source": [
    "#Con el modelo anterior vemos una mejora que eleva al 58,7% el R2"
   ]
  },
  {
   "cell_type": "code",
   "execution_count": 172,
   "metadata": {},
   "outputs": [],
   "source": [
    "#Realizamos un nuevo split considerando otra alternativa de features\n",
    "X_train4, X_test4, y_train4, y_test4 = train_test_split(X4, y4, test_size=0.35, random_state=10)"
   ]
  },
  {
   "cell_type": "code",
   "execution_count": 174,
   "metadata": {},
   "outputs": [
    {
     "name": "stdout",
     "output_type": "stream",
     "text": [
      "El R2 de testeo del modelo es 0.6\n",
      "La media del error absoluto es 447.74\n",
      "La media del error cuadrático es 346131.19\n",
      "La raíz del error cuadrático medio 588.33\n"
     ]
    }
   ],
   "source": [
    "linreg = LinearRegression()\n",
    "linreg.fit(X_train4, y_train4)\n",
    "y_pred4 = linreg.predict(X_test4)\n",
    "\n",
    "mae = mean_absolute_error(y_test4, y_pred4)\n",
    "mse = mean_squared_error(y_test4, y_pred4)\n",
    "rmse = np.sqrt(mse)\n",
    "r2 = r2_score(y_test4, y_pred4)\n",
    "\n",
    "print('El R2 de testeo del modelo es', r2.round(2))\n",
    "print('La media del error absoluto es', mae.round(2))\n",
    "print('La media del error cuadrático es', mse.round(2))\n",
    "print('La raíz del error cuadrático medio', rmse.round(2))"
   ]
  },
  {
   "cell_type": "code",
   "execution_count": 175,
   "metadata": {},
   "outputs": [],
   "source": [
    "model_split = sm.OLS(y_train4, sm.add_constant(X_train4)).fit()\n",
    "predictions_split = model_split.predict(sm.add_constant(X_test4))"
   ]
  },
  {
   "cell_type": "code",
   "execution_count": 176,
   "metadata": {},
   "outputs": [
    {
     "data": {
      "image/png": "[encoded data removed]",
      "text/plain": [
       "<Figure size 432x288 with 1 Axes>"
      ]
     },
     "metadata": {
      "needs_background": "light"
     },
     "output_type": "display_data"
    },
    {
     "data": {
      "text/html": [
       "<table class=\"simpletable\">\n",
       "<caption>OLS Regression Results</caption>\n",
       "<tr>\n",
       "  <th>Dep. Variable:</th>    <td>price_usd_per_m2</td> <th>  R-squared:         </th>  <td>   0.603</td>  \n",
       "</tr>\n",
       "<tr>\n",
       "  <th>Model:</th>                   <td>OLS</td>       <th>  Adj. R-squared:    </th>  <td>   0.602</td>  \n",
       "</tr>\n",
       "<tr>\n",
       "  <th>Method:</th>             <td>Least Squares</td>  <th>  F-statistic:       </th>  <td>   712.9</td>  \n",
       "</tr>\n",
       "<tr>\n",
       "  <th>Date:</th>             <td>Thu, 17 Dec 2020</td> <th>  Prob (F-statistic):</th>   <td>  0.00</td>   \n",
       "</tr>\n",
       "<tr>\n",
       "  <th>Time:</th>                 <td>21:54:45</td>     <th>  Log-Likelihood:    </th> <td>-1.6130e+05</td>\n",
       "</tr>\n",
       "<tr>\n",
       "  <th>No. Observations:</th>      <td> 20696</td>      <th>  AIC:               </th>  <td>3.227e+05</td> \n",
       "</tr>\n",
       "<tr>\n",
       "  <th>Df Residuals:</th>          <td> 20651</td>      <th>  BIC:               </th>  <td>3.231e+05</td> \n",
       "</tr>\n",
       "<tr>\n",
       "  <th>Df Model:</th>              <td>    44</td>      <th>                     </th>      <td> </td>     \n",
       "</tr>\n",
       "<tr>\n",
       "  <th>Covariance Type:</th>      <td>nonrobust</td>    <th>                     </th>      <td> </td>     \n",
       "</tr>\n",
       "</table>\n",
       "<table class=\"simpletable\">\n",
       "<tr>\n",
       "                <td></td>                  <th>coef</th>     <th>std err</th>      <th>t</th>      <th>P>|t|</th>  <th>[0.025</th>    <th>0.975]</th>  \n",
       "</tr>\n",
       "<tr>\n",
       "  <th>const</th>                        <td> 1379.7134</td> <td>   17.711</td> <td>   77.903</td> <td> 0.000</td> <td> 1344.999</td> <td> 1414.428</td>\n",
       "</tr>\n",
       "<tr>\n",
       "  <th>surface_total_in_m2</th>          <td>   -1.1177</td> <td>    0.032</td> <td>  -34.991</td> <td> 0.000</td> <td>   -1.180</td> <td>   -1.055</td>\n",
       "</tr>\n",
       "<tr>\n",
       "  <th>apartment</th>                    <td>  821.5900</td> <td>   17.866</td> <td>   45.987</td> <td> 0.000</td> <td>  786.572</td> <td>  856.608</td>\n",
       "</tr>\n",
       "<tr>\n",
       "  <th>house</th>                        <td>   24.3987</td> <td>   20.179</td> <td>    1.209</td> <td> 0.227</td> <td>  -15.153</td> <td>   63.950</td>\n",
       "</tr>\n",
       "<tr>\n",
       "  <th>store</th>                        <td>  446.4525</td> <td>   46.828</td> <td>    9.534</td> <td> 0.000</td> <td>  354.667</td> <td>  538.238</td>\n",
       "</tr>\n",
       "<tr>\n",
       "  <th>Bs.As. G.B.A. Zona Oeste</th>     <td> -284.1660</td> <td>  185.919</td> <td>   -1.528</td> <td> 0.126</td> <td> -648.581</td> <td>   80.249</td>\n",
       "</tr>\n",
       "<tr>\n",
       "  <th>Bs.As. G.B.A. Zona Sur</th>       <td> -664.8959</td> <td>  293.862</td> <td>   -2.263</td> <td> 0.024</td> <td>-1240.889</td> <td>  -88.903</td>\n",
       "</tr>\n",
       "<tr>\n",
       "  <th>Buenos Aires Costa Atlántica</th> <td> -767.2893</td> <td>  339.473</td> <td>   -2.260</td> <td> 0.024</td> <td>-1432.683</td> <td> -101.896</td>\n",
       "</tr>\n",
       "<tr>\n",
       "  <th>Buenos Aires Interior</th>        <td> -195.6303</td> <td>  177.270</td> <td>   -1.104</td> <td> 0.270</td> <td> -543.093</td> <td>  151.832</td>\n",
       "</tr>\n",
       "<tr>\n",
       "  <th>Capital Federal</th>              <td>   66.9759</td> <td>   16.942</td> <td>    3.953</td> <td> 0.000</td> <td>   33.768</td> <td>  100.184</td>\n",
       "</tr>\n",
       "<tr>\n",
       "  <th>Córdoba</th>                      <td> -443.2995</td> <td>   38.347</td> <td>  -11.560</td> <td> 0.000</td> <td> -518.462</td> <td> -368.137</td>\n",
       "</tr>\n",
       "<tr>\n",
       "  <th>Neuquén</th>                      <td> -135.4615</td> <td>  587.655</td> <td>   -0.231</td> <td> 0.818</td> <td>-1287.312</td> <td> 1016.389</td>\n",
       "</tr>\n",
       "<tr>\n",
       "  <th>San Luis</th>                     <td> -356.2484</td> <td>  262.901</td> <td>   -1.355</td> <td> 0.175</td> <td> -871.554</td> <td>  159.058</td>\n",
       "</tr>\n",
       "<tr>\n",
       "  <th>Santa Fe</th>                     <td> -403.9230</td> <td>  222.176</td> <td>   -1.818</td> <td> 0.069</td> <td> -839.406</td> <td>   31.560</td>\n",
       "</tr>\n",
       "<tr>\n",
       "  <th>Caballito</th>                    <td>  366.5785</td> <td>   21.542</td> <td>   17.017</td> <td> 0.000</td> <td>  324.355</td> <td>  408.802</td>\n",
       "</tr>\n",
       "<tr>\n",
       "  <th>Belgrano</th>                     <td>  835.5543</td> <td>   21.625</td> <td>   38.638</td> <td> 0.000</td> <td>  793.167</td> <td>  877.941</td>\n",
       "</tr>\n",
       "<tr>\n",
       "  <th>Palermo</th>                      <td>  934.4316</td> <td>   23.655</td> <td>   39.503</td> <td> 0.000</td> <td>  888.067</td> <td>  980.796</td>\n",
       "</tr>\n",
       "<tr>\n",
       "  <th>Villa Urquiza</th>                <td>  405.4193</td> <td>   27.403</td> <td>   14.795</td> <td> 0.000</td> <td>  351.708</td> <td>  459.131</td>\n",
       "</tr>\n",
       "<tr>\n",
       "  <th>Villa Crespo</th>                 <td>  423.6672</td> <td>   27.914</td> <td>   15.177</td> <td> 0.000</td> <td>  368.953</td> <td>  478.381</td>\n",
       "</tr>\n",
       "<tr>\n",
       "  <th>Flores</th>                       <td>  -35.7787</td> <td>   28.271</td> <td>   -1.266</td> <td> 0.206</td> <td>  -91.193</td> <td>   19.635</td>\n",
       "</tr>\n",
       "<tr>\n",
       "  <th>Almagro</th>                      <td>  125.3145</td> <td>   32.679</td> <td>    3.835</td> <td> 0.000</td> <td>   61.260</td> <td>  189.369</td>\n",
       "</tr>\n",
       "<tr>\n",
       "  <th>San Telmo</th>                    <td>  251.1195</td> <td>   33.426</td> <td>    7.513</td> <td> 0.000</td> <td>  185.602</td> <td>  316.637</td>\n",
       "</tr>\n",
       "<tr>\n",
       "  <th>Recoleta</th>                     <td> 1077.3656</td> <td>   33.122</td> <td>   32.527</td> <td> 0.000</td> <td> 1012.444</td> <td> 1142.287</td>\n",
       "</tr>\n",
       "<tr>\n",
       "  <th>Capital Federal</th>              <td>   66.9759</td> <td>   16.942</td> <td>    3.953</td> <td> 0.000</td> <td>   33.768</td> <td>  100.184</td>\n",
       "</tr>\n",
       "<tr>\n",
       "  <th>Barrio Norte</th>                 <td>  824.7614</td> <td>   37.092</td> <td>   22.236</td> <td> 0.000</td> <td>  752.059</td> <td>  897.464</td>\n",
       "</tr>\n",
       "<tr>\n",
       "  <th>Nuñez</th>                        <td>  811.2924</td> <td>   39.779</td> <td>   20.395</td> <td> 0.000</td> <td>  733.323</td> <td>  889.262</td>\n",
       "</tr>\n",
       "<tr>\n",
       "  <th>Saavedra</th>                     <td>  316.8441</td> <td>   39.281</td> <td>    8.066</td> <td> 0.000</td> <td>  239.851</td> <td>  393.837</td>\n",
       "</tr>\n",
       "<tr>\n",
       "  <th>Palermo Hollywood</th>            <td>  904.8229</td> <td>   42.791</td> <td>   21.145</td> <td> 0.000</td> <td>  820.949</td> <td>  988.697</td>\n",
       "</tr>\n",
       "<tr>\n",
       "  <th>Villa del Parque</th>             <td>  318.5815</td> <td>   44.183</td> <td>    7.211</td> <td> 0.000</td> <td>  231.979</td> <td>  405.184</td>\n",
       "</tr>\n",
       "<tr>\n",
       "  <th>Villa Luro</th>                   <td>   99.6649</td> <td>   48.638</td> <td>    2.049</td> <td> 0.040</td> <td>    4.331</td> <td>  194.999</td>\n",
       "</tr>\n",
       "<tr>\n",
       "  <th>Palermo Soho</th>                 <td>  970.0540</td> <td>   53.458</td> <td>   18.146</td> <td> 0.000</td> <td>  865.273</td> <td> 1074.835</td>\n",
       "</tr>\n",
       "<tr>\n",
       "  <th>Balvanera</th>                    <td> -196.9788</td> <td>   52.418</td> <td>   -3.758</td> <td> 0.000</td> <td> -299.723</td> <td>  -94.234</td>\n",
       "</tr>\n",
       "<tr>\n",
       "  <th>Floresta</th>                     <td> -144.2356</td> <td>   52.718</td> <td>   -2.736</td> <td> 0.006</td> <td> -247.567</td> <td>  -40.904</td>\n",
       "</tr>\n",
       "<tr>\n",
       "  <th>Barracas</th>                     <td>  -19.1501</td> <td>   52.571</td> <td>   -0.364</td> <td> 0.716</td> <td> -122.194</td> <td>   83.894</td>\n",
       "</tr>\n",
       "<tr>\n",
       "  <th>Monserrat</th>                    <td>   -7.0905</td> <td>   52.421</td> <td>   -0.135</td> <td> 0.892</td> <td> -109.840</td> <td>   95.659</td>\n",
       "</tr>\n",
       "<tr>\n",
       "  <th>Mataderos</th>                    <td> -122.5734</td> <td>   54.490</td> <td>   -2.249</td> <td> 0.024</td> <td> -229.378</td> <td>  -15.769</td>\n",
       "</tr>\n",
       "<tr>\n",
       "  <th>Villa Devoto</th>                 <td>  221.8353</td> <td>   53.583</td> <td>    4.140</td> <td> 0.000</td> <td>  116.808</td> <td>  326.862</td>\n",
       "</tr>\n",
       "<tr>\n",
       "  <th>Coghlan</th>                      <td>  464.5166</td> <td>   57.222</td> <td>    8.118</td> <td> 0.000</td> <td>  352.356</td> <td>  576.677</td>\n",
       "</tr>\n",
       "<tr>\n",
       "  <th>Colegiales</th>                   <td>  657.3192</td> <td>   58.010</td> <td>   11.331</td> <td> 0.000</td> <td>  543.614</td> <td>  771.024</td>\n",
       "</tr>\n",
       "<tr>\n",
       "  <th>San Cristobal</th>                <td> -175.1718</td> <td>   59.751</td> <td>   -2.932</td> <td> 0.003</td> <td> -292.289</td> <td>  -58.054</td>\n",
       "</tr>\n",
       "<tr>\n",
       "  <th>Parque Patricios</th>             <td> -111.5622</td> <td>   62.310</td> <td>   -1.790</td> <td> 0.073</td> <td> -233.695</td> <td>   10.571</td>\n",
       "</tr>\n",
       "<tr>\n",
       "  <th>Liniers</th>                      <td>   54.0310</td> <td>   63.016</td> <td>    0.857</td> <td> 0.391</td> <td>  -69.485</td> <td>  177.547</td>\n",
       "</tr>\n",
       "<tr>\n",
       "  <th>Chacarita</th>                    <td>   91.7021</td> <td>   67.766</td> <td>    1.353</td> <td> 0.176</td> <td>  -41.124</td> <td>  224.529</td>\n",
       "</tr>\n",
       "<tr>\n",
       "  <th>Boedo</th>                        <td>  -42.0714</td> <td>   69.100</td> <td>   -0.609</td> <td> 0.543</td> <td> -177.513</td> <td>   93.370</td>\n",
       "</tr>\n",
       "<tr>\n",
       "  <th>Constitución</th>                 <td> -178.3017</td> <td>   68.200</td> <td>   -2.614</td> <td> 0.009</td> <td> -311.980</td> <td>  -44.624</td>\n",
       "</tr>\n",
       "<tr>\n",
       "  <th>Villa Pueyrredón</th>             <td>  260.2653</td> <td>   70.053</td> <td>    3.715</td> <td> 0.000</td> <td>  122.955</td> <td>  397.575</td>\n",
       "</tr>\n",
       "</table>\n",
       "<table class=\"simpletable\">\n",
       "<tr>\n",
       "  <th>Omnibus:</th>       <td>2324.482</td> <th>  Durbin-Watson:     </th> <td>   1.984</td>\n",
       "</tr>\n",
       "<tr>\n",
       "  <th>Prob(Omnibus):</th>  <td> 0.000</td>  <th>  Jarque-Bera (JB):  </th> <td>4061.218</td>\n",
       "</tr>\n",
       "<tr>\n",
       "  <th>Skew:</th>           <td> 0.769</td>  <th>  Prob(JB):          </th> <td>    0.00</td>\n",
       "</tr>\n",
       "<tr>\n",
       "  <th>Kurtosis:</th>       <td> 4.531</td>  <th>  Cond. No.          </th> <td>1.34e+16</td>\n",
       "</tr>\n",
       "</table><br/><br/>Warnings:<br/>[1] Standard Errors assume that the covariance matrix of the errors is correctly specified.<br/>[2] The smallest eigenvalue is 7.45e-24. This might indicate that there are<br/>strong multicollinearity problems or that the design matrix is singular."
      ],
      "text/plain": [
       "<class 'statsmodels.iolib.summary.Summary'>\n",
       "\"\"\"\n",
       "                            OLS Regression Results                            \n",
       "==============================================================================\n",
       "Dep. Variable:       price_usd_per_m2   R-squared:                       0.603\n",
       "Model:                            OLS   Adj. R-squared:                  0.602\n",
       "Method:                 Least Squares   F-statistic:                     712.9\n",
       "Date:                Thu, 17 Dec 2020   Prob (F-statistic):               0.00\n",
       "Time:                        21:54:45   Log-Likelihood:            -1.6130e+05\n",
       "No. Observations:               20696   AIC:                         3.227e+05\n",
       "Df Residuals:                   20651   BIC:                         3.231e+05\n",
       "Df Model:                          44                                         \n",
       "Covariance Type:            nonrobust                                         \n",
       "================================================================================================\n",
       "                                   coef    std err          t      P>|t|      [0.025      0.975]\n",
       "------------------------------------------------------------------------------------------------\n",
       "const                         1379.7134     17.711     77.903      0.000    1344.999    1414.428\n",
       "surface_total_in_m2             -1.1177      0.032    -34.991      0.000      -1.180      -1.055\n",
       "apartment                      821.5900     17.866     45.987      0.000     786.572     856.608\n",
       "house                           24.3987     20.179      1.209      0.227     -15.153      63.950\n",
       "store                          446.4525     46.828      9.534      0.000     354.667     538.238\n",
       "Bs.As. G.B.A. Zona Oeste      -284.1660    185.919     -1.528      0.126    -648.581      80.249\n",
       "Bs.As. G.B.A. Zona Sur        -664.8959    293.862     -2.263      0.024   -1240.889     -88.903\n",
       "Buenos Aires Costa Atlántica  -767.2893    339.473     -2.260      0.024   -1432.683    -101.896\n",
       "Buenos Aires Interior         -195.6303    177.270     -1.104      0.270    -543.093     151.832\n",
       "Capital Federal                 66.9759     16.942      3.953      0.000      33.768     100.184\n",
       "Córdoba                       -443.2995     38.347    -11.560      0.000    -518.462    -368.137\n",
       "Neuquén                       -135.4615    587.655     -0.231      0.818   -1287.312    1016.389\n",
       "San Luis                      -356.2484    262.901     -1.355      0.175    -871.554     159.058\n",
       "Santa Fe                      -403.9230    222.176     -1.818      0.069    -839.406      31.560\n",
       "Caballito                      366.5785     21.542     17.017      0.000     324.355     408.802\n",
       "Belgrano                       835.5543     21.625     38.638      0.000     793.167     877.941\n",
       "Palermo                        934.4316     23.655     39.503      0.000     888.067     980.796\n",
       "Villa Urquiza                  405.4193     27.403     14.795      0.000     351.708     459.131\n",
       "Villa Crespo                   423.6672     27.914     15.177      0.000     368.953     478.381\n",
       "Flores                         -35.7787     28.271     -1.266      0.206     -91.193      19.635\n",
       "Almagro                        125.3145     32.679      3.835      0.000      61.260     189.369\n",
       "San Telmo                      251.1195     33.426      7.513      0.000     185.602     316.637\n",
       "Recoleta                      1077.3656     33.122     32.527      0.000    1012.444    1142.287\n",
       "Capital Federal                 66.9759     16.942      3.953      0.000      33.768     100.184\n",
       "Barrio Norte                   824.7614     37.092     22.236      0.000     752.059     897.464\n",
       "Nuñez                          811.2924     39.779     20.395      0.000     733.323     889.262\n",
       "Saavedra                       316.8441     39.281      8.066      0.000     239.851     393.837\n",
       "Palermo Hollywood              904.8229     42.791     21.145      0.000     820.949     988.697\n",
       "Villa del Parque               318.5815     44.183      7.211      0.000     231.979     405.184\n",
       "Villa Luro                      99.6649     48.638      2.049      0.040       4.331     194.999\n",
       "Palermo Soho                   970.0540     53.458     18.146      0.000     865.273    1074.835\n",
       "Balvanera                     -196.9788     52.418     -3.758      0.000    -299.723     -94.234\n",
       "Floresta                      -144.2356     52.718     -2.736      0.006    -247.567     -40.904\n",
       "Barracas                       -19.1501     52.571     -0.364      0.716    -122.194      83.894\n",
       "Monserrat                       -7.0905     52.421     -0.135      0.892    -109.840      95.659\n",
       "Mataderos                     -122.5734     54.490     -2.249      0.024    -229.378     -15.769\n",
       "Villa Devoto                   221.8353     53.583      4.140      0.000     116.808     326.862\n",
       "Coghlan                        464.5166     57.222      8.118      0.000     352.356     576.677\n",
       "Colegiales                     657.3192     58.010     11.331      0.000     543.614     771.024\n",
       "San Cristobal                 -175.1718     59.751     -2.932      0.003    -292.289     -58.054\n",
       "Parque Patricios              -111.5622     62.310     -1.790      0.073    -233.695      10.571\n",
       "Liniers                         54.0310     63.016      0.857      0.391     -69.485     177.547\n",
       "Chacarita                       91.7021     67.766      1.353      0.176     -41.124     224.529\n",
       "Boedo                          -42.0714     69.100     -0.609      0.543    -177.513      93.370\n",
       "Constitución                  -178.3017     68.200     -2.614      0.009    -311.980     -44.624\n",
       "Villa Pueyrredón               260.2653     70.053      3.715      0.000     122.955     397.575\n",
       "==============================================================================\n",
       "Omnibus:                     2324.482   Durbin-Watson:                   1.984\n",
       "Prob(Omnibus):                  0.000   Jarque-Bera (JB):             4061.218\n",
       "Skew:                           0.769   Prob(JB):                         0.00\n",
       "Kurtosis:                       4.531   Cond. No.                     1.34e+16\n",
       "==============================================================================\n",
       "\n",
       "Warnings:\n",
       "[1] Standard Errors assume that the covariance matrix of the errors is correctly specified.\n",
       "[2] The smallest eigenvalue is 7.45e-24. This might indicate that there are\n",
       "strong multicollinearity problems or that the design matrix is singular.\n",
       "\"\"\""
      ]
     },
     "execution_count": 176,
     "metadata": {},
     "output_type": "execute_result"
    }
   ],
   "source": [
    "plt.plot(y_test4,y_test4, '-.', c='grey')\n",
    "plt.scatter(predictions_split, y_test4, s=30, c='r', marker='+', zorder=10)\n",
    "plt.xlabel(\"Predicciones\")\n",
    "plt.ylabel(\"Reales\")\n",
    "plt.show()\n",
    "\n",
    "model_split.summary()"
   ]
  },
  {
   "cell_type": "code",
   "execution_count": null,
   "metadata": {},
   "outputs": [],
   "source": [
    "#Llegamos a un R2 del 60%"
   ]
  },
  {
   "cell_type": "code",
   "execution_count": 182,
   "metadata": {},
   "outputs": [],
   "source": [
    "#Utilizamos una función para realizar el instanciado, split, fit, train del modelo y revisión de métricas sobre modelo lineal, logarítmico con Ridge, y lineal con Lasso, sobre la base del primer df\n",
    "def train_test_rmse_reg(feature_cols, df, target='price'):\n",
    "    X = df[feature_cols]\n",
    "    y = df[target]\n",
    "    # Como estamos trabajando con observaciones ordenadas en el tiempo, ponemos\n",
    "    # shuffle=False para evitar data leakage\n",
    "    X_train, X_test, y_train, y_test = train_test_split(X, y, shuffle=False)\n",
    "    linreg = LinearRegression(n_jobs=2)\n",
    "    linreg.fit(X_train, y_train)\n",
    "    y_pred = linreg.predict(X_test)\n",
    "    \n",
    "    rlm = linear_model.RidgeCV(alphas=np.logspace(0.0001, 10, 500), normalize=True, cv=5)\n",
    "    ridge_model = rlm.fit(X_train, y_train)\n",
    "    ridge_pred = ridge_model.predict(X_test)\n",
    "    \n",
    "    lassocv = linear_model.LassoCV(alphas=np.linspace(0.0001, 10, 500), cv=5, normalize=True, n_jobs=2)\n",
    "    lasso_model = lassocv.fit(X_train, y_train)\n",
    "    lasso_pred = lasso_model.predict(X_test)\n",
    "    return ((np.sqrt(metrics.mean_squared_error(y_test, y_pred)), r2_score(y_test, y_pred)), \n",
    "            (np.sqrt(metrics.mean_squared_error(y_test, ridge_pred)),r2_score(y_test, ridge_pred)),\n",
    "            (np.sqrt(metrics.mean_squared_error(y_test, lasso_pred)), r2_score(y_test, lasso_pred))\n",
    "           )\n"
   ]
  },
  {
   "cell_type": "code",
   "execution_count": 193,
   "metadata": {},
   "outputs": [],
   "source": [
    "#Utilizamos una función para realizar el instanciado, split, fit, train del modelo y revisión de métricas sobre modelo lineal, logarítmico con Ridge, y lineal con Lasso, sobre la base del primer df\n",
    "def train_test_rmse_reg_ridge(feature_cols, df, target='price'):\n",
    "    X = df[feature_cols]\n",
    "    y = df[target]\n",
    "    # Como estamos trabajando con observaciones ordenadas en el tiempo, ponemos\n",
    "    # shuffle=False para evitar data leakage\n",
    "    X_train, X_test, y_train, y_test = train_test_split(X, y, shuffle=False)\n",
    "    rlm = linear_model.RidgeCV(alphas=np.logspace(0.0001, 10, 500), normalize=True, cv=5)\n",
    "    ridge_model = rlm.fit(X_train, y_train)\n",
    "    ridge_pred_train = ridge_model.predict(X_train)\n",
    "    ridge_pred_test = ridge_model.predict(X_test)\n",
    "    return (print (\"R2 sobre train: \", r2_score(y_train, ridge_pred_train)),\n",
    "            print (\"R2 sobre test: \", r2_score(y_test, ridge_pred_test)))"
   ]
  },
  {
   "cell_type": "code",
   "execution_count": 179,
   "metadata": {},
   "outputs": [
    {
     "data": {
      "text/plain": [
       "Unnamed: 0                 26946\n",
       "property_type              26946\n",
       "place_name                 26946\n",
       "place_with_parent_names    26946\n",
       "state_name                 26946\n",
       "                           ...  \n",
       "Villa Urquiza                  0\n",
       "Villa de Mayo                  0\n",
       "Villa del Parque               0\n",
       "Virreyes                       0\n",
       "Wilde                          0\n",
       "Length: 428, dtype: int64"
      ]
     },
     "execution_count": 179,
     "metadata": {},
     "output_type": "execute_result"
    }
   ],
   "source": [
    "df_dummies_place_names.isna().sum()"
   ]
  },
  {
   "cell_type": "code",
   "execution_count": 180,
   "metadata": {},
   "outputs": [
    {
     "data": {
      "text/plain": [
       "((594.6073131428075, 0.11087049742496624),\n",
       " (614.9508442493093, 0.04898945509619057),\n",
       " (594.5975355043118, 0.1108997386239281))"
      ]
     },
     "execution_count": 180,
     "metadata": {},
     "output_type": "execute_result"
    }
   ],
   "source": [
    "train_test_rmse_reg(feature_cols_dum2,df_clean_dum,target = \"price_usd_per_m2\")"
   ]
  },
  {
   "cell_type": "code",
   "execution_count": 183,
   "metadata": {},
   "outputs": [
    {
     "data": {
      "text/plain": [
       "((588.2954852503482, 0.1296467420917986),\n",
       " (615.202528716568, 0.04821084468983583),\n",
       " (588.2894868152799, 0.12966449076068587))"
      ]
     },
     "execution_count": 183,
     "metadata": {},
     "output_type": "execute_result"
    }
   ],
   "source": [
    "train_test_rmse_reg(feature_cols_dum,df_clean_dum,target = \"price_usd_per_m2\")"
   ]
  },
  {
   "cell_type": "code",
   "execution_count": 184,
   "metadata": {},
   "outputs": [
    {
     "data": {
      "text/plain": [
       "((567.4260633354977, 0.1903019587533169),\n",
       " (597.1104569348049, 0.10336872747694859),\n",
       " (567.4200933424353, 0.19031899662511054))"
      ]
     },
     "execution_count": 184,
     "metadata": {},
     "output_type": "execute_result"
    }
   ],
   "source": [
    "train_test_rmse_reg(feature_cols_dum4,df_clean_dum,target = \"price_usd_per_m2\")"
   ]
  },
  {
   "cell_type": "code",
   "execution_count": 109,
   "metadata": {},
   "outputs": [
    {
     "data": {
      "text/plain": [
       "((594.6073131428075, 0.11087049742496624),\n",
       " (614.950844249309, 0.04898945509619146),\n",
       " (594.5975355043118, 0.1108997386239281))"
      ]
     },
     "execution_count": 109,
     "metadata": {},
     "output_type": "execute_result"
    }
   ],
   "source": [
    "train_test_rmse_reg(feature_cols_dum2,df_clean_dum,target = \"price_usd_per_m2\")"
   ]
  },
  {
   "cell_type": "code",
   "execution_count": 185,
   "metadata": {},
   "outputs": [
    {
     "data": {
      "text/plain": [
       "((231908.2623937288, 0.07053896896736256),\n",
       " (250138.24884269346, -0.08133174413592537),\n",
       " (229258.10688673583, 0.09166061350114563))"
      ]
     },
     "execution_count": 185,
     "metadata": {},
     "output_type": "execute_result"
    }
   ],
   "source": [
    "train_test_rmse_reg(feature_cols_dum,df_dummies_place,target='price')"
   ]
  },
  {
   "cell_type": "code",
   "execution_count": 186,
   "metadata": {},
   "outputs": [
    {
     "data": {
      "text/plain": [
       "((174772.41248980872, 0.383568063469669),\n",
       " (116864.00664446133, 0.7243862295355425),\n",
       " (174772.39820846185, 0.3835681642118608))"
      ]
     },
     "execution_count": 186,
     "metadata": {},
     "output_type": "execute_result"
    }
   ],
   "source": [
    "train_test_rmse_reg(feature_cols_dum3, df_prepared) #Con linspace en ridge"
   ]
  },
  {
   "cell_type": "code",
   "execution_count": 187,
   "metadata": {},
   "outputs": [
    {
     "data": {
      "text/plain": [
       "((174772.41248980872, 0.383568063469669),\n",
       " (116864.00664446133, 0.7243862295355425),\n",
       " (174772.39820846185, 0.3835681642118608))"
      ]
     },
     "execution_count": 187,
     "metadata": {},
     "output_type": "execute_result"
    }
   ],
   "source": [
    "train_test_rmse_reg(feature_cols_dum3, df_prepared) #Con logspace en ridge"
   ]
  },
  {
   "cell_type": "code",
   "execution_count": 188,
   "metadata": {},
   "outputs": [
    {
     "data": {
      "text/plain": [
       "(0.5948831163724895, 0.7243862295355425)"
      ]
     },
     "execution_count": 188,
     "metadata": {},
     "output_type": "execute_result"
    }
   ],
   "source": [
    "train_test_rmse_reg_ridge(feature_cols_dum3, df_prepared)"
   ]
  },
  {
   "cell_type": "code",
   "execution_count": 189,
   "metadata": {},
   "outputs": [
    {
     "data": {
      "text/plain": [
       "(0.3305982312673391, 0.04898945509619057)"
      ]
     },
     "execution_count": 189,
     "metadata": {},
     "output_type": "execute_result"
    }
   ],
   "source": [
    "train_test_rmse_reg_ridge(feature_cols_dum2,df_clean_dum,target = \"price_usd_per_m2\")"
   ]
  },
  {
   "cell_type": "markdown",
   "metadata": {},
   "source": [
    "## Del modelo que teníamos en 67%, llegó a 72% con Ridge"
   ]
  },
  {
   "cell_type": "code",
   "execution_count": 194,
   "metadata": {},
   "outputs": [
    {
     "name": "stdout",
     "output_type": "stream",
     "text": [
      "R2 sobre train:  0.5948831163724895\n",
      "R2 sobre test:  0.7243862295355425\n"
     ]
    },
    {
     "data": {
      "text/plain": [
       "(None, None)"
      ]
     },
     "execution_count": 194,
     "metadata": {},
     "output_type": "execute_result"
    }
   ],
   "source": [
    "train_test_rmse_reg_ridge(feature_cols_dum3, df_prepared)"
   ]
  },
  {
   "cell_type": "code",
   "execution_count": null,
   "metadata": {},
   "outputs": [],
   "source": []
  }
 ],
 "metadata": {
  "kernelspec": {
   "display_name": "Python 3",
   "language": "python",
   "name": "python3"
  },
  "language_info": {
   "codemirror_mode": {
    "name": "ipython",
    "version": 3
   },
   "file_extension": ".py",
   "mimetype": "text/x-python",
   "name": "python",
   "nbconvert_exporter": "python",
   "pygments_lexer": "ipython3",
   "version": "3.7.9"
  }
 },
 "nbformat": 4,
 "nbformat_minor": 4
}
